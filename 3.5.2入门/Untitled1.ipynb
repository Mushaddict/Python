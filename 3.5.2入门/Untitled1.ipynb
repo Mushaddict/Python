{
 "cells": [
  {
   "cell_type": "markdown",
   "id": "c06fb0b3",
   "metadata": {},
   "source": [
    "# 7.输入和输出"
   ]
  },
  {
   "cell_type": "markdown",
   "id": "2fb89be0",
   "metadata": {},
   "source": [
    "## 7.1 格式化输出\n"
   ]
  },
  {
   "cell_type": "code",
   "execution_count": 2,
   "id": "a4f4227c",
   "metadata": {},
   "outputs": [
    {
     "data": {
      "text/plain": [
       "'0.14285714285714285'"
      ]
     },
     "execution_count": 2,
     "metadata": {},
     "output_type": "execute_result"
    }
   ],
   "source": [
    "s = 'Hello, world. '\n",
    "str(s)\n",
    "repr(s)\n",
    "str(1/7)\n"
   ]
  },
  {
   "cell_type": "code",
   "execution_count": 3,
   "id": "02113d85",
   "metadata": {},
   "outputs": [
    {
     "name": "stdout",
     "output_type": "stream",
     "text": [
      "The value of x is 32.5, and y is 40000...\n"
     ]
    }
   ],
   "source": [
    "x = 10 * 3.25\n",
    "y = 200 * 200\n",
    "s = 'The value of x is ' + repr(x) + ', and y is ' + repr(y) + '...'\n",
    "print(s)"
   ]
  },
  {
   "cell_type": "code",
   "execution_count": 4,
   "id": "9473f01f",
   "metadata": {},
   "outputs": [
    {
     "data": {
      "text/plain": [
       "\"'Hello wolrd\\\\n'\""
      ]
     },
     "execution_count": 4,
     "metadata": {},
     "output_type": "execute_result"
    }
   ],
   "source": [
    "hello = 'Hello wolrd\\n'\n",
    "hellos = repr(hello)\n",
    "hellos"
   ]
  },
  {
   "cell_type": "code",
   "execution_count": 5,
   "id": "c1f43bc5",
   "metadata": {},
   "outputs": [
    {
     "data": {
      "text/plain": [
       "\"(32.5, 40000, ('spam', 'eggs'))\""
      ]
     },
     "execution_count": 5,
     "metadata": {},
     "output_type": "execute_result"
    }
   ],
   "source": [
    "repr((x, y, ('spam', 'eggs')))"
   ]
  },
  {
   "cell_type": "code",
   "execution_count": 8,
   "id": "a38c0cf5",
   "metadata": {},
   "outputs": [
    {
     "name": "stdout",
     "output_type": "stream",
     "text": [
      " 1   1    1\n",
      " 2   4    8\n",
      " 3   9   27\n",
      " 4  16   64\n",
      " 5  25  125\n",
      " 6  36  216\n",
      " 7  49  343\n",
      " 8  64  512\n",
      " 9  81  729\n",
      "10 100 1000\n"
     ]
    }
   ],
   "source": [
    "for x in range(1, 11): \n",
    "    print(repr(x).rjust(2), repr(x*x).rjust(3), end = ' ')\n",
    "    print(repr(x*x*x).rjust(4))"
   ]
  },
  {
   "cell_type": "code",
   "execution_count": 18,
   "id": "6b7a6e6e",
   "metadata": {},
   "outputs": [
    {
     "name": "stdout",
     "output_type": "stream",
     "text": [
      " 1   1   1\n",
      " 2   4   8\n",
      " 3   9  27\n",
      " 4  16  64\n",
      " 5  25 125\n",
      " 6  36 216\n",
      " 7  49 343\n",
      " 8  64 512\n",
      " 9  81 729\n",
      "10 100 1000\n"
     ]
    }
   ],
   "source": [
    "for x in range(1, 11): \n",
    "    print('{0:2d} {1:3d} {2:3d}'.format(x, x*x, x*x*x))\n",
    "    "
   ]
  },
  {
   "cell_type": "code",
   "execution_count": 10,
   "id": "88e6754a",
   "metadata": {},
   "outputs": [
    {
     "data": {
      "text/plain": [
       "'00012'"
      ]
     },
     "execution_count": 10,
     "metadata": {},
     "output_type": "execute_result"
    }
   ],
   "source": [
    "'12'.zfill(5)"
   ]
  },
  {
   "cell_type": "code",
   "execution_count": 11,
   "id": "36000225",
   "metadata": {},
   "outputs": [
    {
     "data": {
      "text/plain": [
       "'-003.14'"
      ]
     },
     "execution_count": 11,
     "metadata": {},
     "output_type": "execute_result"
    }
   ],
   "source": [
    "'-3.14'.zfill(7)"
   ]
  },
  {
   "cell_type": "code",
   "execution_count": 19,
   "id": "8e067de0",
   "metadata": {},
   "outputs": [
    {
     "name": "stdout",
     "output_type": "stream",
     "text": [
      "We are the knights who say \"Hi\"!\n"
     ]
    }
   ],
   "source": [
    "print('We are the {} who say \"{}\"!'.format('knights', 'Hi'))"
   ]
  },
  {
   "cell_type": "code",
   "execution_count": 20,
   "id": "a8fcb8be",
   "metadata": {},
   "outputs": [
    {
     "name": "stdout",
     "output_type": "stream",
     "text": [
      "eggs and spams\n"
     ]
    }
   ],
   "source": [
    "print('{1} and {0}'.format('spams', 'eggs'))"
   ]
  },
  {
   "cell_type": "code",
   "execution_count": 21,
   "id": "1689424b",
   "metadata": {},
   "outputs": [
    {
     "name": "stdout",
     "output_type": "stream",
     "text": [
      "This Spam is absolutely horrible.\n"
     ]
    }
   ],
   "source": [
    "print('This {food} is {adjective}.'.format(\n",
    "    food = 'Spam', adjective = 'absolutely horrible'))"
   ]
  },
  {
   "cell_type": "markdown",
   "id": "0915f127",
   "metadata": {},
   "source": [
    ": 对值的格式化进行更深的控制\n",
    "比如将Pi转为三位精度"
   ]
  },
  {
   "cell_type": "code",
   "execution_count": 22,
   "id": "c77af91a",
   "metadata": {},
   "outputs": [
    {
     "name": "stdout",
     "output_type": "stream",
     "text": [
      "The value of PI is approximately 3.142.\n"
     ]
    }
   ],
   "source": [
    "import math\n",
    "print('The value of PI is approximately {0:.3f}.'.format(math.pi))"
   ]
  },
  {
   "cell_type": "markdown",
   "id": "820f65d7",
   "metadata": {},
   "source": [
    "在字段后加`:`后面加一个证书会限定该字段的最小宽度，在美化表格的时候很有用"
   ]
  },
  {
   "cell_type": "code",
   "execution_count": 24,
   "id": "63ce01af",
   "metadata": {},
   "outputs": [
    {
     "name": "stdout",
     "output_type": "stream",
     "text": [
      "Sjoerd     ==>       4127\n",
      "Jack       ==>       4098\n",
      "Dcab       ==>       7678\n"
     ]
    }
   ],
   "source": [
    "table = {'Sjoerd': 4127, 'Jack': 4098, 'Dcab': 7678}\n",
    "for name, phone in table.items(): \n",
    "    print('{0:10} ==> {1:10d}'.format(name, phone))"
   ]
  },
  {
   "cell_type": "code",
   "execution_count": 27,
   "id": "5254f0ba",
   "metadata": {},
   "outputs": [
    {
     "name": "stdout",
     "output_type": "stream",
     "text": [
      "Jack: 4098; Sjoerd: 4127;Dcab: 7678\n"
     ]
    }
   ],
   "source": [
    "print('Jack: {0[Jack]:d}; Sjoerd: {0[Sjoerd]:d};'\n",
    "     'Dcab: {0[Dcab]:d}'.format(table))"
   ]
  },
  {
   "cell_type": "markdown",
   "id": "4a8a8bd5",
   "metadata": {},
   "source": [
    "也可以用 `**` 标志将这个字典以关键字参数的方式传入"
   ]
  },
  {
   "cell_type": "code",
   "execution_count": 28,
   "id": "07a4a7a4",
   "metadata": {},
   "outputs": [
    {
     "name": "stdout",
     "output_type": "stream",
     "text": [
      "Jack: 4098; Sjoerd: 4127; Dcab: 7678\n"
     ]
    }
   ],
   "source": [
    "print('Jack: {Jack:d}; Sjoerd: {Sjoerd:d}; Dcab: {Dcab:d}'.format(**table))"
   ]
  },
  {
   "cell_type": "code",
   "execution_count": 30,
   "id": "0fde4cd2",
   "metadata": {},
   "outputs": [
    {
     "name": "stdout",
     "output_type": "stream",
     "text": [
      "1,122,334,456\n"
     ]
    }
   ],
   "source": [
    "print('{:,}'.format(1122334456))"
   ]
  },
  {
   "cell_type": "markdown",
   "id": "5e58e1bf",
   "metadata": {},
   "source": [
    "# 8. 异常和错误"
   ]
  },
  {
   "cell_type": "markdown",
   "id": "0e5a347a",
   "metadata": {},
   "source": [
    "## 8.3 异常处理"
   ]
  },
  {
   "cell_type": "code",
   "execution_count": 33,
   "id": "272ed3ec",
   "metadata": {},
   "outputs": [
    {
     "name": "stdout",
     "output_type": "stream",
     "text": [
      "Please enter a number: 3e\n",
      "That's not a valid number\n",
      "Please enter a number: ds\n",
      "That's not a valid number\n",
      "Please enter a number: \"ds\"\n",
      "That's not a valid number\n",
      "Please enter a number: 3\n"
     ]
    }
   ],
   "source": [
    "while True: \n",
    "    try: \n",
    "        x = int(input(\"Please enter a number: \"))\n",
    "        break;\n",
    "    except ValueError: \n",
    "        print(\"That's not a valid number\")"
   ]
  },
  {
   "cell_type": "markdown",
   "id": "00652a52",
   "metadata": {},
   "source": [
    "# 9. 类"
   ]
  },
  {
   "cell_type": "markdown",
   "id": "a2921eba",
   "metadata": {},
   "source": [
    "### 9.2.1. 作用域和域名空间实例"
   ]
  },
  {
   "cell_type": "code",
   "execution_count": 35,
   "id": "6504a4dd",
   "metadata": {},
   "outputs": [
    {
     "name": "stdout",
     "output_type": "stream",
     "text": [
      "After local assignment is:  test spam\n",
      "After nonlocal assignment is:  nonlocal spam\n",
      "After global assignment is:  nonlocal spam\n",
      "In global scope:  global spam\n"
     ]
    }
   ],
   "source": [
    "def scope_test(): \n",
    "    def do_local():\n",
    "        spam = \"local spam\"\n",
    "    \n",
    "    def do_nonlocal(): \n",
    "        nonlocal spam\n",
    "        spam = \"nonlocal spam\"\n",
    "        \n",
    "    def do_global(): \n",
    "        global spam\n",
    "        spam = \"global spam\"\n",
    "        \n",
    "    spam = \"test spam\"\n",
    "    do_local()\n",
    "    print(\"After local assignment is: \", spam)\n",
    "    do_nonlocal()\n",
    "    print(\"After nonlocal assignment is: \", spam)\n",
    "    do_global()\n",
    "    print(\"After global assignment is: \", spam)\n",
    "    \n",
    "scope_test()\n",
    "print(\"In global scope: \", spam)"
   ]
  },
  {
   "cell_type": "code",
   "execution_count": 37,
   "id": "1a4bec38",
   "metadata": {},
   "outputs": [
    {
     "data": {
      "text/plain": [
       "(3.0, -4.5)"
      ]
     },
     "execution_count": 37,
     "metadata": {},
     "output_type": "execute_result"
    }
   ],
   "source": [
    "class Complex: \n",
    "    def __init__(self, realpart, imagpart) : \n",
    "        self.r = realpart\n",
    "        self.i = imagpart\n",
    "        \n",
    "x = Complex(3.0, -4.5)\n",
    "x.r, x.i"
   ]
  },
  {
   "cell_type": "code",
   "execution_count": 39,
   "id": "e156ec0e",
   "metadata": {},
   "outputs": [
    {
     "data": {
      "text/plain": [
       "(['roll over'], ['play dead'])"
      ]
     },
     "execution_count": 39,
     "metadata": {},
     "output_type": "execute_result"
    }
   ],
   "source": [
    "class Dog:\n",
    "    def __init__(self, name): \n",
    "        self.name = name\n",
    "        self.tricks = []  # create a new empty list for each dog\n",
    "        \n",
    "    def add_trick(self, trick): \n",
    "        self.tricks.append(trick)\n",
    "        \n",
    "d = Dog('Fido')\n",
    "e = Dog('Buddy')\n",
    "d.add_trick('roll over')\n",
    "e.add_trick('play dead')\n",
    "d.tricks, e.tricks"
   ]
  },
  {
   "cell_type": "code",
   "execution_count": 40,
   "id": "eb43abc6",
   "metadata": {},
   "outputs": [
    {
     "data": {
      "text/plain": [
       "<str_iterator at 0x7f998a6b2810>"
      ]
     },
     "execution_count": 40,
     "metadata": {},
     "output_type": "execute_result"
    }
   ],
   "source": [
    "s = 'abc'\n",
    "it = iter(s)\n",
    "it"
   ]
  },
  {
   "cell_type": "code",
   "execution_count": 41,
   "id": "ea049a82",
   "metadata": {},
   "outputs": [
    {
     "data": {
      "text/plain": [
       "'a'"
      ]
     },
     "execution_count": 41,
     "metadata": {},
     "output_type": "execute_result"
    }
   ],
   "source": [
    "next(it)"
   ]
  },
  {
   "cell_type": "code",
   "execution_count": 42,
   "id": "49d4a212",
   "metadata": {},
   "outputs": [
    {
     "data": {
      "text/plain": [
       "'b'"
      ]
     },
     "execution_count": 42,
     "metadata": {},
     "output_type": "execute_result"
    }
   ],
   "source": [
    "next(it)"
   ]
  },
  {
   "cell_type": "code",
   "execution_count": 43,
   "id": "f8026ee6",
   "metadata": {},
   "outputs": [
    {
     "data": {
      "text/plain": [
       "'c'"
      ]
     },
     "execution_count": 43,
     "metadata": {},
     "output_type": "execute_result"
    }
   ],
   "source": [
    "next(it)"
   ]
  },
  {
   "cell_type": "code",
   "execution_count": 46,
   "id": "b9ff6289",
   "metadata": {},
   "outputs": [
    {
     "name": "stdout",
     "output_type": "stream",
     "text": [
      "m\n",
      "a\n",
      "p\n",
      "S\n"
     ]
    }
   ],
   "source": [
    "class Reverse:\n",
    "    def __init__(self, data): \n",
    "        self.data = data\n",
    "        self.index = len(data)\n",
    "        \n",
    "    def __iter__(self): \n",
    "        return self\n",
    "    \n",
    "    def __next__(self): \n",
    "        if self.index == 0:\n",
    "            raise StopIteration\n",
    "        self.index = self.index - 1\n",
    "        return self.data[self.index]\n",
    "    \n",
    "rev = Reverse('Spam')\n",
    "iter(rev)\n",
    "for char in rev:\n",
    "    print(char)"
   ]
  },
  {
   "cell_type": "code",
   "execution_count": 47,
   "id": "a45dd1ae",
   "metadata": {},
   "outputs": [
    {
     "data": {
      "text/plain": [
       "'/Users/JackAn/Desktop/D/cs语言:库/python/python/3.5.2入门'"
      ]
     },
     "execution_count": 47,
     "metadata": {},
     "output_type": "execute_result"
    }
   ],
   "source": [
    "import os\n",
    "os.getcwd()"
   ]
  },
  {
   "cell_type": "code",
   "execution_count": 48,
   "id": "a64da5cf",
   "metadata": {},
   "outputs": [
    {
     "data": {
      "text/plain": [
       "'pear'"
      ]
     },
     "execution_count": 48,
     "metadata": {},
     "output_type": "execute_result"
    }
   ],
   "source": [
    "import random\n",
    "random.choice(['apple', 'pear', 'banan'])"
   ]
  },
  {
   "cell_type": "code",
   "execution_count": 49,
   "id": "993b043d",
   "metadata": {},
   "outputs": [
    {
     "data": {
      "text/plain": [
       "[88, 27, 94, 29, 43, 3, 8, 84, 59, 67]"
      ]
     },
     "execution_count": 49,
     "metadata": {},
     "output_type": "execute_result"
    }
   ],
   "source": [
    "random.sample(range(100), 10)"
   ]
  },
  {
   "cell_type": "code",
   "execution_count": 50,
   "id": "6059b829",
   "metadata": {},
   "outputs": [
    {
     "data": {
      "text/plain": [
       "0.033145467154075514"
      ]
     },
     "execution_count": 50,
     "metadata": {},
     "output_type": "execute_result"
    }
   ],
   "source": [
    "random.random()"
   ]
  },
  {
   "cell_type": "code",
   "execution_count": 51,
   "id": "bb1560ab",
   "metadata": {},
   "outputs": [
    {
     "data": {
      "text/plain": [
       "0"
      ]
     },
     "execution_count": 51,
     "metadata": {},
     "output_type": "execute_result"
    }
   ],
   "source": [
    "random.randrange(6)"
   ]
  },
  {
   "cell_type": "code",
   "execution_count": 52,
   "id": "ee3c5095",
   "metadata": {},
   "outputs": [
    {
     "data": {
      "text/plain": [
       "datetime.date(2022, 2, 2)"
      ]
     },
     "execution_count": 52,
     "metadata": {},
     "output_type": "execute_result"
    }
   ],
   "source": [
    "from datetime import date\n",
    "now = date.today()\n",
    "now"
   ]
  },
  {
   "cell_type": "code",
   "execution_count": 53,
   "id": "f9063845",
   "metadata": {},
   "outputs": [
    {
     "name": "stdout",
     "output_type": "stream",
     "text": [
      "2\n"
     ]
    }
   ],
   "source": [
    "def fun(n, x = []): \n",
    "    x.append(x.append(n))\n",
    "    return x\n",
    "for i in range(3): \n",
    "    x = fun(i)\n",
    "    \n",
    "print(i)"
   ]
  },
  {
   "cell_type": "code",
   "execution_count": null,
   "id": "dcc1f328",
   "metadata": {},
   "outputs": [],
   "source": []
  }
 ],
 "metadata": {
  "kernelspec": {
   "display_name": "Python 3 (ipykernel)",
   "language": "python",
   "name": "python3"
  },
  "language_info": {
   "codemirror_mode": {
    "name": "ipython",
    "version": 3
   },
   "file_extension": ".py",
   "mimetype": "text/x-python",
   "name": "python",
   "nbconvert_exporter": "python",
   "pygments_lexer": "ipython3",
   "version": "3.7.7"
  },
  "toc": {
   "base_numbering": 1,
   "nav_menu": {},
   "number_sections": true,
   "sideBar": true,
   "skip_h1_title": false,
   "title_cell": "Table of Contents",
   "title_sidebar": "Contents",
   "toc_cell": false,
   "toc_position": {},
   "toc_section_display": true,
   "toc_window_display": false
  }
 },
 "nbformat": 4,
 "nbformat_minor": 5
}
