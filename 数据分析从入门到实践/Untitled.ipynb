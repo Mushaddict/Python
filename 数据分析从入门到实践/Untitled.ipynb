{
 "cells": [
  {
   "cell_type": "code",
   "execution_count": 1,
   "metadata": {},
   "outputs": [],
   "source": [
    "import pandas as pd"
   ]
  },
  {
   "cell_type": "code",
   "execution_count": 2,
   "metadata": {},
   "outputs": [],
   "source": [
    "pd.set_option('display.unicode.east_asian_width', True)\n",
    "data = [[2, 3, 4], [12, 34, 56], [32, 45, 23]]\n",
    "index = [0, 1, 2]\n",
    "columns = ['语文', '英语', '数学']"
   ]
  },
  {
   "cell_type": "code",
   "execution_count": 5,
   "metadata": {},
   "outputs": [
    {
     "data": {
      "text/html": [
       "<div>\n",
       "<style scoped>\n",
       "    .dataframe tbody tr th:only-of-type {\n",
       "        vertical-align: middle;\n",
       "    }\n",
       "\n",
       "    .dataframe tbody tr th {\n",
       "        vertical-align: top;\n",
       "    }\n",
       "\n",
       "    .dataframe thead th {\n",
       "        text-align: right;\n",
       "    }\n",
       "</style>\n",
       "<table border=\"1\" class=\"dataframe\">\n",
       "  <thead>\n",
       "    <tr style=\"text-align: right;\">\n",
       "      <th></th>\n",
       "      <th>语文</th>\n",
       "      <th>英语</th>\n",
       "      <th>数学</th>\n",
       "    </tr>\n",
       "  </thead>\n",
       "  <tbody>\n",
       "    <tr>\n",
       "      <th>0</th>\n",
       "      <td>2</td>\n",
       "      <td>3</td>\n",
       "      <td>4</td>\n",
       "    </tr>\n",
       "    <tr>\n",
       "      <th>1</th>\n",
       "      <td>12</td>\n",
       "      <td>34</td>\n",
       "      <td>56</td>\n",
       "    </tr>\n",
       "    <tr>\n",
       "      <th>2</th>\n",
       "      <td>32</td>\n",
       "      <td>45</td>\n",
       "      <td>23</td>\n",
       "    </tr>\n",
       "  </tbody>\n",
       "</table>\n",
       "</div>"
      ],
      "text/plain": [
       "   语文  英语  数学\n",
       "0     2     3     4\n",
       "1    12    34    56\n",
       "2    32    45    23"
      ]
     },
     "execution_count": 5,
     "metadata": {},
     "output_type": "execute_result"
    }
   ],
   "source": [
    "df = pd.DataFrame(data = data, index = index, columns = columns)\n",
    "df"
   ]
  },
  {
   "cell_type": "code",
   "execution_count": 7,
   "metadata": {},
   "outputs": [
    {
     "name": "stdout",
     "output_type": "stream",
     "text": [
      "0     2\n",
      "1    12\n",
      "2    32\n",
      "Name: 语文, dtype: int64\n",
      "0     3\n",
      "1    34\n",
      "2    45\n",
      "Name: 英语, dtype: int64\n",
      "0     4\n",
      "1    56\n",
      "2    23\n",
      "Name: 数学, dtype: int64\n"
     ]
    }
   ],
   "source": [
    "for col in df.columns : \n",
    "    series = df[col]\n",
    "    print(series)"
   ]
  },
  {
   "cell_type": "code",
   "execution_count": 9,
   "metadata": {},
   "outputs": [
    {
     "data": {
      "text/html": [
       "<div>\n",
       "<style scoped>\n",
       "    .dataframe tbody tr th:only-of-type {\n",
       "        vertical-align: middle;\n",
       "    }\n",
       "\n",
       "    .dataframe tbody tr th {\n",
       "        vertical-align: top;\n",
       "    }\n",
       "\n",
       "    .dataframe thead th {\n",
       "        text-align: right;\n",
       "    }\n",
       "</style>\n",
       "<table border=\"1\" class=\"dataframe\">\n",
       "  <thead>\n",
       "    <tr style=\"text-align: right;\">\n",
       "      <th></th>\n",
       "      <th>语文</th>\n",
       "      <th>英语</th>\n",
       "      <th>数学</th>\n",
       "    </tr>\n",
       "  </thead>\n",
       "  <tbody>\n",
       "    <tr>\n",
       "      <th>0</th>\n",
       "      <td>2</td>\n",
       "      <td>3</td>\n",
       "      <td>4</td>\n",
       "    </tr>\n",
       "    <tr>\n",
       "      <th>1</th>\n",
       "      <td>12</td>\n",
       "      <td>34</td>\n",
       "      <td>56</td>\n",
       "    </tr>\n",
       "    <tr>\n",
       "      <th>2</th>\n",
       "      <td>32</td>\n",
       "      <td>45</td>\n",
       "      <td>23</td>\n",
       "    </tr>\n",
       "  </tbody>\n",
       "</table>\n",
       "</div>"
      ],
      "text/plain": [
       "   语文  英语  数学\n",
       "0     2     3     4\n",
       "1    12    34    56\n",
       "2    32    45    23"
      ]
     },
     "execution_count": 9,
     "metadata": {},
     "output_type": "execute_result"
    }
   ],
   "source": [
    "df = pd.DataFrame(data = data, columns = columns)\n",
    "df"
   ]
  },
  {
   "cell_type": "code",
   "execution_count": 11,
   "metadata": {},
   "outputs": [
    {
     "data": {
      "text/html": [
       "<div>\n",
       "<style scoped>\n",
       "    .dataframe tbody tr th:only-of-type {\n",
       "        vertical-align: middle;\n",
       "    }\n",
       "\n",
       "    .dataframe tbody tr th {\n",
       "        vertical-align: top;\n",
       "    }\n",
       "\n",
       "    .dataframe thead th {\n",
       "        text-align: right;\n",
       "    }\n",
       "</style>\n",
       "<table border=\"1\" class=\"dataframe\">\n",
       "  <thead>\n",
       "    <tr style=\"text-align: right;\">\n",
       "      <th></th>\n",
       "      <th>语文</th>\n",
       "      <th>数学</th>\n",
       "      <th>英语</th>\n",
       "      <th>班级</th>\n",
       "    </tr>\n",
       "  </thead>\n",
       "  <tbody>\n",
       "    <tr>\n",
       "      <th>0</th>\n",
       "      <td>110</td>\n",
       "      <td>105</td>\n",
       "      <td>109</td>\n",
       "      <td>高一7班</td>\n",
       "    </tr>\n",
       "    <tr>\n",
       "      <th>1</th>\n",
       "      <td>105</td>\n",
       "      <td>88</td>\n",
       "      <td>120</td>\n",
       "      <td>高一7班</td>\n",
       "    </tr>\n",
       "    <tr>\n",
       "      <th>2</th>\n",
       "      <td>99</td>\n",
       "      <td>75</td>\n",
       "      <td>130</td>\n",
       "      <td>高一7班</td>\n",
       "    </tr>\n",
       "  </tbody>\n",
       "</table>\n",
       "</div>"
      ],
      "text/plain": [
       "   语文  数学  英语     班级\n",
       "0   110   105   109  高一7班\n",
       "1   105    88   120  高一7班\n",
       "2    99    75   130  高一7班"
      ]
     },
     "execution_count": 11,
     "metadata": {},
     "output_type": "execute_result"
    }
   ],
   "source": [
    "df = pd.DataFrame({\n",
    "    '语文': [110, 105, 99], \n",
    "    '数学': [105, 88, 75], \n",
    "    '英语': [109, 120, 130], \n",
    "    '班级': '高一7班'\n",
    "})\n",
    "df"
   ]
  },
  {
   "cell_type": "code",
   "execution_count": 12,
   "metadata": {},
   "outputs": [
    {
     "data": {
      "text/html": [
       "<div>\n",
       "<style scoped>\n",
       "    .dataframe tbody tr th:only-of-type {\n",
       "        vertical-align: middle;\n",
       "    }\n",
       "\n",
       "    .dataframe tbody tr th {\n",
       "        vertical-align: top;\n",
       "    }\n",
       "\n",
       "    .dataframe thead th {\n",
       "        text-align: right;\n",
       "    }\n",
       "</style>\n",
       "<table border=\"1\" class=\"dataframe\">\n",
       "  <thead>\n",
       "    <tr style=\"text-align: right;\">\n",
       "      <th></th>\n",
       "      <th>0</th>\n",
       "      <th>1</th>\n",
       "      <th>2</th>\n",
       "    </tr>\n",
       "  </thead>\n",
       "  <tbody>\n",
       "    <tr>\n",
       "      <th>语文</th>\n",
       "      <td>110</td>\n",
       "      <td>105</td>\n",
       "      <td>99</td>\n",
       "    </tr>\n",
       "    <tr>\n",
       "      <th>数学</th>\n",
       "      <td>105</td>\n",
       "      <td>88</td>\n",
       "      <td>75</td>\n",
       "    </tr>\n",
       "    <tr>\n",
       "      <th>英语</th>\n",
       "      <td>109</td>\n",
       "      <td>120</td>\n",
       "      <td>130</td>\n",
       "    </tr>\n",
       "    <tr>\n",
       "      <th>班级</th>\n",
       "      <td>高一7班</td>\n",
       "      <td>高一7班</td>\n",
       "      <td>高一7班</td>\n",
       "    </tr>\n",
       "  </tbody>\n",
       "</table>\n",
       "</div>"
      ],
      "text/plain": [
       "            0        1        2\n",
       "语文      110      105       99\n",
       "数学      105       88       75\n",
       "英语      109      120      130\n",
       "班级  高一7班  高一7班  高一7班"
      ]
     },
     "execution_count": 12,
     "metadata": {},
     "output_type": "execute_result"
    }
   ],
   "source": [
    "df.T"
   ]
  },
  {
   "cell_type": "code",
   "execution_count": 14,
   "metadata": {},
   "outputs": [
    {
     "data": {
      "text/plain": [
       "array([[110, 105, 109, '高一7班'],\n",
       "       [105, 88, 120, '高一7班'],\n",
       "       [99, 75, 130, '高一7班']], dtype=object)"
      ]
     },
     "execution_count": 14,
     "metadata": {},
     "output_type": "execute_result"
    }
   ],
   "source": [
    "df.values"
   ]
  },
  {
   "cell_type": "code",
   "execution_count": 15,
   "metadata": {},
   "outputs": [
    {
     "data": {
      "text/plain": [
       "语文     int64\n",
       "数学     int64\n",
       "英语     int64\n",
       "班级    object\n",
       "dtype: object"
      ]
     },
     "execution_count": 15,
     "metadata": {},
     "output_type": "execute_result"
    }
   ],
   "source": [
    "df.dtypes"
   ]
  },
  {
   "cell_type": "code",
   "execution_count": 19,
   "metadata": {},
   "outputs": [
    {
     "data": {
      "text/plain": [
       "(3, 4)"
      ]
     },
     "execution_count": 19,
     "metadata": {},
     "output_type": "execute_result"
    }
   ],
   "source": [
    "df.shape"
   ]
  },
  {
   "cell_type": "code",
   "execution_count": 20,
   "metadata": {},
   "outputs": [
    {
     "data": {
      "text/plain": [
       "<bound method DataFrame.info of    语文  数学  英语     班级\n",
       "0   110   105   109  高一7班\n",
       "1   105    88   120  高一7班\n",
       "2    99    75   130  高一7班>"
      ]
     },
     "execution_count": 20,
     "metadata": {},
     "output_type": "execute_result"
    }
   ],
   "source": [
    "df.info"
   ]
  },
  {
   "cell_type": "code",
   "execution_count": 21,
   "metadata": {},
   "outputs": [
    {
     "data": {
      "text/plain": [
       "语文                      314\n",
       "数学                      268\n",
       "英语                      359\n",
       "班级    高一7班高一7班高一7班\n",
       "dtype: object"
      ]
     },
     "execution_count": 21,
     "metadata": {},
     "output_type": "execute_result"
    }
   ],
   "source": [
    "df.sum()"
   ]
  },
  {
   "cell_type": "code",
   "execution_count": 22,
   "metadata": {},
   "outputs": [
    {
     "data": {
      "text/plain": [
       "语文        110\n",
       "数学        105\n",
       "英语        130\n",
       "班级    高一7班\n",
       "dtype: object"
      ]
     },
     "execution_count": 22,
     "metadata": {},
     "output_type": "execute_result"
    }
   ],
   "source": [
    "df.max()"
   ]
  },
  {
   "cell_type": "code",
   "execution_count": 28,
   "metadata": {},
   "outputs": [
    {
     "data": {
      "text/plain": [
       "110"
      ]
     },
     "execution_count": 28,
     "metadata": {},
     "output_type": "execute_result"
    }
   ],
   "source": [
    "df['语文'].max()"
   ]
  },
  {
   "cell_type": "code",
   "execution_count": 29,
   "metadata": {},
   "outputs": [
    {
     "data": {
      "text/html": [
       "<div>\n",
       "<style scoped>\n",
       "    .dataframe tbody tr th:only-of-type {\n",
       "        vertical-align: middle;\n",
       "    }\n",
       "\n",
       "    .dataframe tbody tr th {\n",
       "        vertical-align: top;\n",
       "    }\n",
       "\n",
       "    .dataframe thead th {\n",
       "        text-align: right;\n",
       "    }\n",
       "</style>\n",
       "<table border=\"1\" class=\"dataframe\">\n",
       "  <thead>\n",
       "    <tr style=\"text-align: right;\">\n",
       "      <th></th>\n",
       "      <th>语文</th>\n",
       "      <th>数学</th>\n",
       "      <th>英语</th>\n",
       "    </tr>\n",
       "  </thead>\n",
       "  <tbody>\n",
       "    <tr>\n",
       "      <th>count</th>\n",
       "      <td>3.000000</td>\n",
       "      <td>3.000000</td>\n",
       "      <td>3.000000</td>\n",
       "    </tr>\n",
       "    <tr>\n",
       "      <th>mean</th>\n",
       "      <td>104.666667</td>\n",
       "      <td>89.333333</td>\n",
       "      <td>119.666667</td>\n",
       "    </tr>\n",
       "    <tr>\n",
       "      <th>std</th>\n",
       "      <td>5.507571</td>\n",
       "      <td>15.044379</td>\n",
       "      <td>10.503968</td>\n",
       "    </tr>\n",
       "    <tr>\n",
       "      <th>min</th>\n",
       "      <td>99.000000</td>\n",
       "      <td>75.000000</td>\n",
       "      <td>109.000000</td>\n",
       "    </tr>\n",
       "    <tr>\n",
       "      <th>25%</th>\n",
       "      <td>102.000000</td>\n",
       "      <td>81.500000</td>\n",
       "      <td>114.500000</td>\n",
       "    </tr>\n",
       "    <tr>\n",
       "      <th>50%</th>\n",
       "      <td>105.000000</td>\n",
       "      <td>88.000000</td>\n",
       "      <td>120.000000</td>\n",
       "    </tr>\n",
       "    <tr>\n",
       "      <th>75%</th>\n",
       "      <td>107.500000</td>\n",
       "      <td>96.500000</td>\n",
       "      <td>125.000000</td>\n",
       "    </tr>\n",
       "    <tr>\n",
       "      <th>max</th>\n",
       "      <td>110.000000</td>\n",
       "      <td>105.000000</td>\n",
       "      <td>130.000000</td>\n",
       "    </tr>\n",
       "  </tbody>\n",
       "</table>\n",
       "</div>"
      ],
      "text/plain": [
       "             语文        数学        英语\n",
       "count    3.000000    3.000000    3.000000\n",
       "mean   104.666667   89.333333  119.666667\n",
       "std      5.507571   15.044379   10.503968\n",
       "min     99.000000   75.000000  109.000000\n",
       "25%    102.000000   81.500000  114.500000\n",
       "50%    105.000000   88.000000  120.000000\n",
       "75%    107.500000   96.500000  125.000000\n",
       "max    110.000000  105.000000  130.000000"
      ]
     },
     "execution_count": 29,
     "metadata": {},
     "output_type": "execute_result"
    }
   ],
   "source": [
    "df.describe()"
   ]
  },
  {
   "cell_type": "code",
   "execution_count": 30,
   "metadata": {},
   "outputs": [
    {
     "data": {
      "text/plain": [
       "语文     5.507571\n",
       "数学    15.044379\n",
       "英语    10.503968\n",
       "dtype: float64"
      ]
     },
     "execution_count": 30,
     "metadata": {},
     "output_type": "execute_result"
    }
   ],
   "source": [
    "df.std()"
   ]
  },
  {
   "cell_type": "code",
   "execution_count": 31,
   "metadata": {},
   "outputs": [
    {
     "data": {
      "text/html": [
       "<div>\n",
       "<style scoped>\n",
       "    .dataframe tbody tr th:only-of-type {\n",
       "        vertical-align: middle;\n",
       "    }\n",
       "\n",
       "    .dataframe tbody tr th {\n",
       "        vertical-align: top;\n",
       "    }\n",
       "\n",
       "    .dataframe thead th {\n",
       "        text-align: right;\n",
       "    }\n",
       "</style>\n",
       "<table border=\"1\" class=\"dataframe\">\n",
       "  <thead>\n",
       "    <tr style=\"text-align: right;\">\n",
       "      <th></th>\n",
       "      <th>语文</th>\n",
       "      <th>数学</th>\n",
       "      <th>英语</th>\n",
       "      <th>班级</th>\n",
       "    </tr>\n",
       "  </thead>\n",
       "  <tbody>\n",
       "    <tr>\n",
       "      <th>0</th>\n",
       "      <td>False</td>\n",
       "      <td>False</td>\n",
       "      <td>False</td>\n",
       "      <td>False</td>\n",
       "    </tr>\n",
       "    <tr>\n",
       "      <th>1</th>\n",
       "      <td>False</td>\n",
       "      <td>False</td>\n",
       "      <td>False</td>\n",
       "      <td>False</td>\n",
       "    </tr>\n",
       "    <tr>\n",
       "      <th>2</th>\n",
       "      <td>False</td>\n",
       "      <td>False</td>\n",
       "      <td>False</td>\n",
       "      <td>False</td>\n",
       "    </tr>\n",
       "  </tbody>\n",
       "</table>\n",
       "</div>"
      ],
      "text/plain": [
       "    语文   数学   英语   班级\n",
       "0  False  False  False  False\n",
       "1  False  False  False  False\n",
       "2  False  False  False  False"
      ]
     },
     "execution_count": 31,
     "metadata": {},
     "output_type": "execute_result"
    }
   ],
   "source": [
    "df.isnull()"
   ]
  },
  {
   "cell_type": "code",
   "execution_count": 33,
   "metadata": {},
   "outputs": [
    {
     "data": {
      "text/html": [
       "<div>\n",
       "<style scoped>\n",
       "    .dataframe tbody tr th:only-of-type {\n",
       "        vertical-align: middle;\n",
       "    }\n",
       "\n",
       "    .dataframe tbody tr th {\n",
       "        vertical-align: top;\n",
       "    }\n",
       "\n",
       "    .dataframe thead th {\n",
       "        text-align: right;\n",
       "    }\n",
       "</style>\n",
       "<table border=\"1\" class=\"dataframe\">\n",
       "  <thead>\n",
       "    <tr style=\"text-align: right;\">\n",
       "      <th></th>\n",
       "      <th>买家会员名</th>\n",
       "      <th>买家实际支付金额</th>\n",
       "      <th>收货人姓名</th>\n",
       "      <th>宝贝标题</th>\n",
       "    </tr>\n",
       "  </thead>\n",
       "  <tbody>\n",
       "    <tr>\n",
       "      <th>0</th>\n",
       "      <td>mrhy1</td>\n",
       "      <td>41.86</td>\n",
       "      <td>周某某</td>\n",
       "      <td>零基础学Python</td>\n",
       "    </tr>\n",
       "    <tr>\n",
       "      <th>1</th>\n",
       "      <td>mrhy2</td>\n",
       "      <td>41.86</td>\n",
       "      <td>杨某某</td>\n",
       "      <td>零基础学Python</td>\n",
       "    </tr>\n",
       "    <tr>\n",
       "      <th>2</th>\n",
       "      <td>mrhy3</td>\n",
       "      <td>48.86</td>\n",
       "      <td>刘某某</td>\n",
       "      <td>零基础学Python</td>\n",
       "    </tr>\n",
       "    <tr>\n",
       "      <th>3</th>\n",
       "      <td>mrhy4</td>\n",
       "      <td>48.86</td>\n",
       "      <td>张某某</td>\n",
       "      <td>零基础学Python</td>\n",
       "    </tr>\n",
       "    <tr>\n",
       "      <th>4</th>\n",
       "      <td>mrhy5</td>\n",
       "      <td>48.86</td>\n",
       "      <td>赵某某</td>\n",
       "      <td>C#项目开发实战入门</td>\n",
       "    </tr>\n",
       "  </tbody>\n",
       "</table>\n",
       "</div>"
      ],
      "text/plain": [
       "  买家会员名  买家实际支付金额 收货人姓名            宝贝标题\n",
       "0      mrhy1             41.86     周某某      零基础学Python\n",
       "1      mrhy2             41.86     杨某某      零基础学Python\n",
       "2      mrhy3             48.86     刘某某      零基础学Python\n",
       "3      mrhy4             48.86     张某某      零基础学Python\n",
       "4      mrhy5             48.86     赵某某  C#项目开发实战入门"
      ]
     },
     "execution_count": 33,
     "metadata": {},
     "output_type": "execute_result"
    }
   ],
   "source": [
    "df = pd.read_excel('1月xlsx.xlsx')\n",
    "df.head()"
   ]
  },
  {
   "cell_type": "code",
   "execution_count": 36,
   "metadata": {},
   "outputs": [
    {
     "data": {
      "text/html": [
       "<div>\n",
       "<style scoped>\n",
       "    .dataframe tbody tr th:only-of-type {\n",
       "        vertical-align: middle;\n",
       "    }\n",
       "\n",
       "    .dataframe tbody tr th {\n",
       "        vertical-align: top;\n",
       "    }\n",
       "\n",
       "    .dataframe thead th {\n",
       "        text-align: right;\n",
       "    }\n",
       "</style>\n",
       "<table border=\"1\" class=\"dataframe\">\n",
       "  <thead>\n",
       "    <tr style=\"text-align: right;\">\n",
       "      <th></th>\n",
       "      <th>买家会员名</th>\n",
       "      <th>买家支付宝账号</th>\n",
       "      <th>买家实际支付金额</th>\n",
       "      <th>订单状态</th>\n",
       "      <th>收货人姓名</th>\n",
       "      <th>收货地址</th>\n",
       "      <th>联系手机</th>\n",
       "      <th>订单创建时间</th>\n",
       "      <th>订单付款时间</th>\n",
       "      <th>宝贝标题</th>\n",
       "      <th>宝贝种类</th>\n",
       "      <th>物流单号</th>\n",
       "      <th>物流公司</th>\n",
       "      <th>订单备注</th>\n",
       "      <th>宝贝总数量</th>\n",
       "      <th>类别</th>\n",
       "      <th>图书编号</th>\n",
       "    </tr>\n",
       "  </thead>\n",
       "  <tbody>\n",
       "    <tr>\n",
       "      <th>0</th>\n",
       "      <td>mmbooks101</td>\n",
       "      <td>********</td>\n",
       "      <td>41.86</td>\n",
       "      <td>交易成功</td>\n",
       "      <td>赵某人</td>\n",
       "      <td>贵州省 贵阳市 花溪区</td>\n",
       "      <td>1**********</td>\n",
       "      <td>2018-05-16 09:38:00</td>\n",
       "      <td>2018-05-16 09:41:00</td>\n",
       "      <td>Android项目开发实战入门</td>\n",
       "      <td>1</td>\n",
       "      <td>No:221307653963</td>\n",
       "      <td>申通快递</td>\n",
       "      <td>'null</td>\n",
       "      <td>1</td>\n",
       "      <td>全彩系列</td>\n",
       "      <td>B16</td>\n",
       "    </tr>\n",
       "    <tr>\n",
       "      <th>1</th>\n",
       "      <td>mmbooks102</td>\n",
       "      <td>********</td>\n",
       "      <td>41.86</td>\n",
       "      <td>交易成功</td>\n",
       "      <td>李某某</td>\n",
       "      <td>新疆维吾尔自治区 乌鲁木齐市 水磨沟区</td>\n",
       "      <td>1**********</td>\n",
       "      <td>2018-05-09 15:31:00</td>\n",
       "      <td>2018-05-09 15:31:00</td>\n",
       "      <td>Android项目开发实战入门</td>\n",
       "      <td>1</td>\n",
       "      <td>No:221307653740</td>\n",
       "      <td>申通快递</td>\n",
       "      <td>'null</td>\n",
       "      <td>1</td>\n",
       "      <td>全彩系列</td>\n",
       "      <td>B16</td>\n",
       "    </tr>\n",
       "    <tr>\n",
       "      <th>2</th>\n",
       "      <td>mmbooks103</td>\n",
       "      <td>********</td>\n",
       "      <td>48.86</td>\n",
       "      <td>交易成功</td>\n",
       "      <td>高某某</td>\n",
       "      <td>云南省 红河哈尼族彝族自治州 开远市</td>\n",
       "      <td>1**********</td>\n",
       "      <td>2018-05-25 15:21:00</td>\n",
       "      <td>2018-05-25 15:21:00</td>\n",
       "      <td>ASP.NET项目开发实战入门</td>\n",
       "      <td>1</td>\n",
       "      <td>No:221307653898</td>\n",
       "      <td>申通快递</td>\n",
       "      <td>'null</td>\n",
       "      <td>1</td>\n",
       "      <td>全彩系列</td>\n",
       "      <td>B17</td>\n",
       "    </tr>\n",
       "    <tr>\n",
       "      <th>3</th>\n",
       "      <td>mmbooks104</td>\n",
       "      <td>********</td>\n",
       "      <td>48.86</td>\n",
       "      <td>交易成功</td>\n",
       "      <td>高某某</td>\n",
       "      <td>云南省 红河哈尼族彝族自治州 开远市</td>\n",
       "      <td>1**********</td>\n",
       "      <td>2018-05-14 20:21:00</td>\n",
       "      <td>2018-05-14 20:22:00</td>\n",
       "      <td>ASP.NET项目开发实战入门</td>\n",
       "      <td>1</td>\n",
       "      <td>No:221307653892</td>\n",
       "      <td>申通快递</td>\n",
       "      <td>'null</td>\n",
       "      <td>1</td>\n",
       "      <td>全彩系列</td>\n",
       "      <td>B17</td>\n",
       "    </tr>\n",
       "    <tr>\n",
       "      <th>4</th>\n",
       "      <td>mmbooks105</td>\n",
       "      <td>********</td>\n",
       "      <td>48.86</td>\n",
       "      <td>交易成功</td>\n",
       "      <td>高某某</td>\n",
       "      <td>云南省 红河哈尼族彝族自治州 开远市</td>\n",
       "      <td>1**********</td>\n",
       "      <td>2018-05-22 18:47:00</td>\n",
       "      <td>2018-05-22 18:47:00</td>\n",
       "      <td>C#项目开发实战入门</td>\n",
       "      <td>1</td>\n",
       "      <td>No:221307653942</td>\n",
       "      <td>申通快递</td>\n",
       "      <td>'null</td>\n",
       "      <td>1</td>\n",
       "      <td>全彩系列</td>\n",
       "      <td>B18</td>\n",
       "    </tr>\n",
       "  </tbody>\n",
       "</table>\n",
       "</div>"
      ],
      "text/plain": [
       "   买家会员名 买家支付宝账号  买家实际支付金额  订单状态 收货人姓名  \\\n",
       "0  mmbooks101       ********             41.86  交易成功     赵某人   \n",
       "1  mmbooks102       ********             41.86  交易成功     李某某   \n",
       "2  mmbooks103       ********             48.86  交易成功     高某某   \n",
       "3  mmbooks104       ********             48.86  交易成功     高某某   \n",
       "4  mmbooks105       ********             48.86  交易成功     高某某   \n",
       "\n",
       "                               收货地址     联系手机        订单创建时间  \\\n",
       "0                  贵州省 贵阳市 花溪区  1********** 2018-05-16 09:38:00   \n",
       "1  新疆维吾尔自治区 乌鲁木齐市 水磨沟区  1********** 2018-05-09 15:31:00   \n",
       "2    云南省 红河哈尼族彝族自治州 开远市  1********** 2018-05-25 15:21:00   \n",
       "3    云南省 红河哈尼族彝族自治州 开远市  1********** 2018-05-14 20:21:00   \n",
       "4    云南省 红河哈尼族彝族自治州 开远市  1********** 2018-05-22 18:47:00   \n",
       "\n",
       "        订单付款时间                  宝贝标题  宝贝种类          物流单号  \\\n",
       "0 2018-05-16 09:41:00  Android项目开发实战入门          1  No:221307653963   \n",
       "1 2018-05-09 15:31:00  Android项目开发实战入门          1  No:221307653740   \n",
       "2 2018-05-25 15:21:00  ASP.NET项目开发实战入门          1  No:221307653898   \n",
       "3 2018-05-14 20:22:00  ASP.NET项目开发实战入门          1  No:221307653892   \n",
       "4 2018-05-22 18:47:00       C#项目开发实战入门          1  No:221307653942   \n",
       "\n",
       "   物流公司 订单备注  宝贝总数量      类别 图书编号  \n",
       "0  申通快递    'null           1  全彩系列      B16  \n",
       "1  申通快递    'null           1  全彩系列      B16  \n",
       "2  申通快递    'null           1  全彩系列      B17  \n",
       "3  申通快递    'null           1  全彩系列      B17  \n",
       "4  申通快递    'null           1  全彩系列      B18  "
      ]
     },
     "execution_count": 36,
     "metadata": {},
     "output_type": "execute_result"
    }
   ],
   "source": [
    "df = pd.read_excel('1月xlsx.xlsx', sheet_name = 1)\n",
    "df.head()"
   ]
  },
  {
   "cell_type": "code",
   "execution_count": 42,
   "metadata": {},
   "outputs": [
    {
     "data": {
      "text/html": [
       "<div>\n",
       "<style scoped>\n",
       "    .dataframe tbody tr th:only-of-type {\n",
       "        vertical-align: middle;\n",
       "    }\n",
       "\n",
       "    .dataframe tbody tr th {\n",
       "        vertical-align: top;\n",
       "    }\n",
       "\n",
       "    .dataframe thead th {\n",
       "        text-align: right;\n",
       "    }\n",
       "</style>\n",
       "<table border=\"1\" class=\"dataframe\">\n",
       "  <thead>\n",
       "    <tr style=\"text-align: right;\">\n",
       "      <th></th>\n",
       "      <th>买家会员名</th>\n",
       "      <th>买家实际支付金额</th>\n",
       "      <th>收货人姓名</th>\n",
       "    </tr>\n",
       "    <tr>\n",
       "      <th>宝贝标题</th>\n",
       "      <th></th>\n",
       "      <th></th>\n",
       "      <th></th>\n",
       "    </tr>\n",
       "  </thead>\n",
       "  <tbody>\n",
       "    <tr>\n",
       "      <th>零基础学Python</th>\n",
       "      <td>mrhy1</td>\n",
       "      <td>41.86</td>\n",
       "      <td>周某某</td>\n",
       "    </tr>\n",
       "    <tr>\n",
       "      <th>零基础学Python</th>\n",
       "      <td>mrhy2</td>\n",
       "      <td>41.86</td>\n",
       "      <td>杨某某</td>\n",
       "    </tr>\n",
       "    <tr>\n",
       "      <th>零基础学Python</th>\n",
       "      <td>mrhy3</td>\n",
       "      <td>48.86</td>\n",
       "      <td>刘某某</td>\n",
       "    </tr>\n",
       "    <tr>\n",
       "      <th>零基础学Python</th>\n",
       "      <td>mrhy4</td>\n",
       "      <td>48.86</td>\n",
       "      <td>张某某</td>\n",
       "    </tr>\n",
       "    <tr>\n",
       "      <th>C#项目开发实战入门</th>\n",
       "      <td>mrhy5</td>\n",
       "      <td>48.86</td>\n",
       "      <td>赵某某</td>\n",
       "    </tr>\n",
       "  </tbody>\n",
       "</table>\n",
       "</div>"
      ],
      "text/plain": [
       "                   买家会员名  买家实际支付金额 收货人姓名\n",
       "宝贝标题                                                  \n",
       "零基础学Python          mrhy1             41.86     周某某\n",
       "零基础学Python          mrhy2             41.86     杨某某\n",
       "零基础学Python          mrhy3             48.86     刘某某\n",
       "零基础学Python          mrhy4             48.86     张某某\n",
       "C#项目开发实战入门      mrhy5             48.86     赵某某"
      ]
     },
     "execution_count": 42,
     "metadata": {},
     "output_type": "execute_result"
    }
   ],
   "source": [
    "df1 = pd.read_excel('1月xlsx.xlsx', index_col = 3)\n",
    "df1.head()"
   ]
  },
  {
   "cell_type": "code",
   "execution_count": 46,
   "metadata": {},
   "outputs": [
    {
     "data": {
      "text/html": [
       "<div>\n",
       "<style scoped>\n",
       "    .dataframe tbody tr th:only-of-type {\n",
       "        vertical-align: middle;\n",
       "    }\n",
       "\n",
       "    .dataframe tbody tr th {\n",
       "        vertical-align: top;\n",
       "    }\n",
       "\n",
       "    .dataframe thead th {\n",
       "        text-align: right;\n",
       "    }\n",
       "</style>\n",
       "<table border=\"1\" class=\"dataframe\">\n",
       "  <thead>\n",
       "    <tr style=\"text-align: right;\">\n",
       "      <th></th>\n",
       "      <th>0</th>\n",
       "      <th>1</th>\n",
       "      <th>2</th>\n",
       "      <th>3</th>\n",
       "    </tr>\n",
       "  </thead>\n",
       "  <tbody>\n",
       "    <tr>\n",
       "      <th>0</th>\n",
       "      <td>买家会员名</td>\n",
       "      <td>买家实际支付金额</td>\n",
       "      <td>收货人姓名</td>\n",
       "      <td>宝贝标题</td>\n",
       "    </tr>\n",
       "    <tr>\n",
       "      <th>1</th>\n",
       "      <td>mrhy1</td>\n",
       "      <td>41.86</td>\n",
       "      <td>周某某</td>\n",
       "      <td>零基础学Python</td>\n",
       "    </tr>\n",
       "    <tr>\n",
       "      <th>2</th>\n",
       "      <td>mrhy2</td>\n",
       "      <td>41.86</td>\n",
       "      <td>杨某某</td>\n",
       "      <td>零基础学Python</td>\n",
       "    </tr>\n",
       "    <tr>\n",
       "      <th>3</th>\n",
       "      <td>mrhy3</td>\n",
       "      <td>48.86</td>\n",
       "      <td>刘某某</td>\n",
       "      <td>零基础学Python</td>\n",
       "    </tr>\n",
       "    <tr>\n",
       "      <th>4</th>\n",
       "      <td>mrhy4</td>\n",
       "      <td>48.86</td>\n",
       "      <td>张某某</td>\n",
       "      <td>零基础学Python</td>\n",
       "    </tr>\n",
       "  </tbody>\n",
       "</table>\n",
       "</div>"
      ],
      "text/plain": [
       "            0                 1           2               3\n",
       "0  买家会员名  买家实际支付金额  收货人姓名        宝贝标题\n",
       "1       mrhy1             41.86      周某某  零基础学Python\n",
       "2       mrhy2             41.86      杨某某  零基础学Python\n",
       "3       mrhy3             48.86      刘某某  零基础学Python\n",
       "4       mrhy4             48.86      张某某  零基础学Python"
      ]
     },
     "execution_count": 46,
     "metadata": {},
     "output_type": "execute_result"
    }
   ],
   "source": [
    "\n",
    "df1 = pd.read_excel('1月xlsx.xlsx', header = None)  # 列索引为数字\n",
    "df1.head()"
   ]
  },
  {
   "cell_type": "code",
   "execution_count": 55,
   "metadata": {},
   "outputs": [
    {
     "data": {
      "text/plain": [
       "0    买家会员名\n",
       "1         mrhy1\n",
       "2         mrhy2\n",
       "3         mrhy3\n",
       "4         mrhy4\n",
       "Name: 0, dtype: object"
      ]
     },
     "execution_count": 55,
     "metadata": {},
     "output_type": "execute_result"
    }
   ],
   "source": [
    "df1[0].head()"
   ]
  },
  {
   "cell_type": "code",
   "execution_count": 56,
   "metadata": {},
   "outputs": [
    {
     "data": {
      "text/html": [
       "<div>\n",
       "<style scoped>\n",
       "    .dataframe tbody tr th:only-of-type {\n",
       "        vertical-align: middle;\n",
       "    }\n",
       "\n",
       "    .dataframe tbody tr th {\n",
       "        vertical-align: top;\n",
       "    }\n",
       "\n",
       "    .dataframe thead th {\n",
       "        text-align: right;\n",
       "    }\n",
       "</style>\n",
       "<table border=\"1\" class=\"dataframe\">\n",
       "  <thead>\n",
       "    <tr style=\"text-align: right;\">\n",
       "      <th></th>\n",
       "      <th>买家会员名</th>\n",
       "    </tr>\n",
       "  </thead>\n",
       "  <tbody>\n",
       "    <tr>\n",
       "      <th>0</th>\n",
       "      <td>mrhy1</td>\n",
       "    </tr>\n",
       "    <tr>\n",
       "      <th>1</th>\n",
       "      <td>mrhy2</td>\n",
       "    </tr>\n",
       "    <tr>\n",
       "      <th>2</th>\n",
       "      <td>mrhy3</td>\n",
       "    </tr>\n",
       "    <tr>\n",
       "      <th>3</th>\n",
       "      <td>mrhy4</td>\n",
       "    </tr>\n",
       "    <tr>\n",
       "      <th>4</th>\n",
       "      <td>mrhy5</td>\n",
       "    </tr>\n",
       "  </tbody>\n",
       "</table>\n",
       "</div>"
      ],
      "text/plain": [
       "  买家会员名\n",
       "0      mrhy1\n",
       "1      mrhy2\n",
       "2      mrhy3\n",
       "3      mrhy4\n",
       "4      mrhy5"
      ]
     },
     "execution_count": 56,
     "metadata": {},
     "output_type": "execute_result"
    }
   ],
   "source": [
    "# 等同于\n",
    "df1 = pd.read_excel('1月xlsx.xlsx', usecols = [0])\n",
    "df1.head()"
   ]
  },
  {
   "cell_type": "code",
   "execution_count": 61,
   "metadata": {},
   "outputs": [
    {
     "data": {
      "text/html": [
       "<div>\n",
       "<style scoped>\n",
       "    .dataframe tbody tr th:only-of-type {\n",
       "        vertical-align: middle;\n",
       "    }\n",
       "\n",
       "    .dataframe tbody tr th {\n",
       "        vertical-align: top;\n",
       "    }\n",
       "\n",
       "    .dataframe thead th {\n",
       "        text-align: right;\n",
       "    }\n",
       "</style>\n",
       "<table border=\"1\" class=\"dataframe\">\n",
       "  <thead>\n",
       "    <tr style=\"text-align: right;\">\n",
       "      <th></th>\n",
       "      <th>买家会员名</th>\n",
       "      <th>买家实际支付金额</th>\n",
       "      <th>收货人姓名</th>\n",
       "      <th>宝贝标题</th>\n",
       "      <th>订单付款时间</th>\n",
       "    </tr>\n",
       "  </thead>\n",
       "  <tbody>\n",
       "    <tr>\n",
       "      <th>0</th>\n",
       "      <td>mrhy1</td>\n",
       "      <td>41.86</td>\n",
       "      <td>周某某</td>\n",
       "      <td>零基础学Python</td>\n",
       "      <td>2018/5/16 9:41</td>\n",
       "    </tr>\n",
       "    <tr>\n",
       "      <th>1</th>\n",
       "      <td>mrhy2</td>\n",
       "      <td>41.86</td>\n",
       "      <td>杨某某</td>\n",
       "      <td>零基础学Python</td>\n",
       "      <td>2018/5/9 15:31</td>\n",
       "    </tr>\n",
       "    <tr>\n",
       "      <th>2</th>\n",
       "      <td>mrhy3</td>\n",
       "      <td>48.86</td>\n",
       "      <td>刘某某</td>\n",
       "      <td>零基础学Python</td>\n",
       "      <td>2018/5/25 15:21</td>\n",
       "    </tr>\n",
       "    <tr>\n",
       "      <th>3</th>\n",
       "      <td>mrhy4</td>\n",
       "      <td>48.86</td>\n",
       "      <td>张某某</td>\n",
       "      <td>零基础学Python</td>\n",
       "      <td>2018/5/25 15:21</td>\n",
       "    </tr>\n",
       "    <tr>\n",
       "      <th>4</th>\n",
       "      <td>mrhy5</td>\n",
       "      <td>48.86</td>\n",
       "      <td>赵某某</td>\n",
       "      <td>C#项目开发实战入门</td>\n",
       "      <td>2018/5/25 15:21</td>\n",
       "    </tr>\n",
       "  </tbody>\n",
       "</table>\n",
       "</div>"
      ],
      "text/plain": [
       "  买家会员名  买家实际支付金额 收货人姓名            宝贝标题    订单付款时间 \n",
       "0      mrhy1             41.86     周某某      零基础学Python   2018/5/16 9:41\n",
       "1      mrhy2             41.86     杨某某      零基础学Python   2018/5/9 15:31\n",
       "2      mrhy3             48.86     刘某某      零基础学Python  2018/5/25 15:21\n",
       "3      mrhy4             48.86     张某某      零基础学Python  2018/5/25 15:21\n",
       "4      mrhy5             48.86     赵某某  C#项目开发实战入门  2018/5/25 15:21"
      ]
     },
     "execution_count": 61,
     "metadata": {},
     "output_type": "execute_result"
    }
   ],
   "source": [
    "# 导入CSV\n",
    "pd.set_option('display.max_columns', 500)\n",
    "pd.set_option('display.width', 1000)\n",
    "pd.set_option('display.unicode.east_asian_width', True)\n",
    "df1 = pd.read_csv('1月csv.csv', encoding = 'gbk')\n",
    "df1.head()"
   ]
  },
  {
   "cell_type": "code",
   "execution_count": null,
   "metadata": {},
   "outputs": [],
   "source": []
  }
 ],
 "metadata": {
  "kernelspec": {
   "display_name": "Python 3",
   "language": "python",
   "name": "python3"
  },
  "language_info": {
   "codemirror_mode": {
    "name": "ipython",
    "version": 3
   },
   "file_extension": ".py",
   "mimetype": "text/x-python",
   "name": "python",
   "nbconvert_exporter": "python",
   "pygments_lexer": "ipython3",
   "version": "3.7.6"
  }
 },
 "nbformat": 4,
 "nbformat_minor": 4
}
