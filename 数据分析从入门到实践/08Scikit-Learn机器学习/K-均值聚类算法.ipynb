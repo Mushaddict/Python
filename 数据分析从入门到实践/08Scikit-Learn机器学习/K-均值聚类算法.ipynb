{
 "cells": [
  {
   "cell_type": "code",
   "execution_count": null,
   "metadata": {},
   "outputs": [],
   "source": [
    "import numpy as np\n",
    "\"\"\"\n",
    "    任务要求：对平面上的 100 个点进行聚类，要求聚类为两类，其横坐标都为 0 到 99。\n",
    "\"\"\"\n",
    "x = np.linspace(0, 99, 100)\n",
    "y = np.linspace(0, 99, 100)\n",
    "k = 2\n",
    "n = len(x)\n",
    "dis = np.zeros([n, k+1])\n",
    "\n",
    "\n",
    "# 1. 选择初始聚类中心\n",
    "center1 = np.array([x[0], y[0]])\n",
    "center2 = np.array([x[1], y[1]])\n",
    "iter_ = 100\n",
    "\n",
    "while iter_ > 0:\n",
    "    # 2. 求各个点到两个聚类中心内距离\n",
    "    for i in range(n): \n",
    "        dis[i, 0] = np.sqrt((x[i] - center1[0])**2 + (y[i] - center1[1])**2)\n",
    "        dis[i, 1] = np.sqrt((x[i] - center2[0])**2 + (y[i] - center2[1])**2)\n",
    "        # 3. 归类\n",
    "        dis[i, 2] = np.argmin(dis[i, :2])  # 将值较小的下标值赋值给dis[i, 2]\n",
    "    \n",
    "    # 4. 求新的聚类中心\n",
    "    index1 = dis[:, 2] == 0\n",
    "    index2 = dis[:, 2] == 1\n",
    "    center1_new = np.array([x[index1].mean(), y[index1].mean()])\n",
    "    center2_new = np.array([x[index2].mean(), y[index2].mean()])\n",
    "    \n",
    "    # 5. 判定聚类中心是否发生变换\n",
    "    if all((center1 == center1_new) & (center2 == center2_new)): \n",
    "        # 如果没有发生变换则退出循环，标识已得到最终的聚类中心\n",
    "        break;\n",
    "    \n",
    "    center1 = center1_new\n",
    "    center2 = center2_new\n",
    "    \n",
    "# 6. 输出结果以验证\n",
    "print(dis)"
   ]
  },
  {
   "cell_type": "code",
   "execution_count": null,
   "metadata": {},
   "outputs": [],
   "source": []
  }
 ],
 "metadata": {
  "kernelspec": {
   "display_name": "Python 3",
   "language": "python",
   "name": "python3"
  },
  "language_info": {
   "codemirror_mode": {
    "name": "ipython",
    "version": 3
   },
   "file_extension": ".py",
   "mimetype": "text/x-python",
   "name": "python",
   "nbconvert_exporter": "python",
   "pygments_lexer": "ipython3",
   "version": "3.7.6"
  }
 },
 "nbformat": 4,
 "nbformat_minor": 4
}
