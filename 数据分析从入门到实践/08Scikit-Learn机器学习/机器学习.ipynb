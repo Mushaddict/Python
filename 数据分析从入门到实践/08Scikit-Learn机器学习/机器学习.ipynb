{
 "cells": [
  {
   "cell_type": "code",
   "execution_count": 8,
   "metadata": {},
   "outputs": [
    {
     "name": "stdout",
     "output_type": "stream",
     "text": [
      "    面积     价格\n",
      "0   56   7800\n",
      "1  104   9000\n",
      "2  156   9200\n",
      "3  200  10000\n",
      "4  250  11000\n",
      "5  300  12000\n",
      "[[170]]\n",
      "回归系数:  [[16.32229076]]\n",
      "截距:  [6933.4063421]\n",
      "预测值:  [[9708.19577086]]\n"
     ]
    },
    {
     "data": {
      "image/png": "[encoded data removed]",
      "text/plain": [
       "<Figure size 432x288 with 1 Axes>"
      ]
     },
     "metadata": {
      "needs_background": "light"
     },
     "output_type": "display_data"
    }
   ],
   "source": [
    "from sklearn import linear_model\n",
    "import numpy as np\n",
    "import pandas as pd\n",
    "import matplotlib.pyplot as plt\n",
    "data = [[56, 7800], [104, 9000], [156, 9200], [200, 10000], [250, 11000], [300, 12000]]\n",
    "columns = ['面积', '价格']\n",
    "df = pd.DataFrame(data = data, columns = columns)\n",
    "x = pd.DataFrame(df['面积'])\n",
    "y = pd.DataFrame(df['价格'])\n",
    "print(df)\n",
    "clf = linear_model.LinearRegression()\n",
    "clf.fit(x, y)     # 拟合线性模型\n",
    "k = clf.coef_     # 回归系数\n",
    "b = clf.intercept_ # 截距\n",
    "x0 = np.array([[170]])\n",
    "print(x0)\n",
    "# 通过给定的x0预测y0，y0=截距+x值*回归系数\n",
    "y0 = clf.predict(x0)\n",
    "print('回归系数: ', k)\n",
    "print('截距: ', b)\n",
    "print('预测值: ', y0)\n",
    "plt.plot(df)\n",
    "# plt.plot(x0, y0)\n",
    "plt.show()"
   ]
  },
  {
   "cell_type": "code",
   "execution_count": null,
   "metadata": {},
   "outputs": [],
   "source": []
  }
 ],
 "metadata": {
  "kernelspec": {
   "display_name": "Python 3",
   "language": "python",
   "name": "python3"
  },
  "language_info": {
   "codemirror_mode": {
    "name": "ipython",
    "version": 3
   },
   "file_extension": ".py",
   "mimetype": "text/x-python",
   "name": "python",
   "nbconvert_exporter": "python",
   "pygments_lexer": "ipython3",
   "version": "3.7.6"
  }
 },
 "nbformat": 4,
 "nbformat_minor": 4
}
