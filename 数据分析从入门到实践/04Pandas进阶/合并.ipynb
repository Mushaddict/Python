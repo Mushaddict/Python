{
 "cells": [
  {
   "cell_type": "code",
   "execution_count": 2,
   "metadata": {},
   "outputs": [
    {
     "name": "stdout",
     "output_type": "stream",
     "text": [
      "    编号  体育\n",
      "0  mr001  34.5\n",
      "1  mr002  39.7\n",
      "2  mr003  38.0\n",
      "3  mr001  33.0\n",
      "4  mr001  35.0\n",
      "    编号  语文  数学  英语\n",
      "0  mr001   110   105    99\n",
      "1  mr002   105    88   115\n",
      "2  mr003   109   120   130\n",
      "3  mr003   110   123   109\n",
      "4  mr003   108   119   128\n"
     ]
    }
   ],
   "source": [
    "import pandas as pd\n",
    "pd.set_option('display.unicode.east_asian_width', True)\n",
    "df1 = pd.DataFrame({'编号': ['mr001', 'mr002', 'mr003', 'mr001', 'mr001'], \n",
    "                   '体育':[34.5, 39.7, 38, 33, 35]})\n",
    "df2 = pd.DataFrame({'编号': ['mr001', 'mr002', 'mr003', 'mr003', 'mr003'], \n",
    "                   '语文': [110, 105, 109, 110, 108], \n",
    "                   '数学': [105, 88, 120, 123, 119], \n",
    "                   '英语': [99, 115, 130, 109, 128]})\n",
    "print(df1)\n",
    "print(df2)"
   ]
  },
  {
   "cell_type": "code",
   "execution_count": 5,
   "metadata": {},
   "outputs": [
    {
     "data": {
      "text/html": [
       "<div>\n",
       "<style scoped>\n",
       "    .dataframe tbody tr th:only-of-type {\n",
       "        vertical-align: middle;\n",
       "    }\n",
       "\n",
       "    .dataframe tbody tr th {\n",
       "        vertical-align: top;\n",
       "    }\n",
       "\n",
       "    .dataframe thead th {\n",
       "        text-align: right;\n",
       "    }\n",
       "</style>\n",
       "<table border=\"1\" class=\"dataframe\">\n",
       "  <thead>\n",
       "    <tr style=\"text-align: right;\">\n",
       "      <th></th>\n",
       "      <th>编号</th>\n",
       "      <th>体育</th>\n",
       "      <th>语文</th>\n",
       "      <th>数学</th>\n",
       "      <th>英语</th>\n",
       "    </tr>\n",
       "  </thead>\n",
       "  <tbody>\n",
       "    <tr>\n",
       "      <th>0</th>\n",
       "      <td>mr001</td>\n",
       "      <td>34.5</td>\n",
       "      <td>110</td>\n",
       "      <td>105</td>\n",
       "      <td>99</td>\n",
       "    </tr>\n",
       "    <tr>\n",
       "      <th>1</th>\n",
       "      <td>mr001</td>\n",
       "      <td>33.0</td>\n",
       "      <td>110</td>\n",
       "      <td>105</td>\n",
       "      <td>99</td>\n",
       "    </tr>\n",
       "    <tr>\n",
       "      <th>2</th>\n",
       "      <td>mr001</td>\n",
       "      <td>35.0</td>\n",
       "      <td>110</td>\n",
       "      <td>105</td>\n",
       "      <td>99</td>\n",
       "    </tr>\n",
       "    <tr>\n",
       "      <th>3</th>\n",
       "      <td>mr002</td>\n",
       "      <td>39.7</td>\n",
       "      <td>105</td>\n",
       "      <td>88</td>\n",
       "      <td>115</td>\n",
       "    </tr>\n",
       "    <tr>\n",
       "      <th>4</th>\n",
       "      <td>mr003</td>\n",
       "      <td>38.0</td>\n",
       "      <td>109</td>\n",
       "      <td>120</td>\n",
       "      <td>130</td>\n",
       "    </tr>\n",
       "    <tr>\n",
       "      <th>5</th>\n",
       "      <td>mr003</td>\n",
       "      <td>38.0</td>\n",
       "      <td>110</td>\n",
       "      <td>123</td>\n",
       "      <td>109</td>\n",
       "    </tr>\n",
       "    <tr>\n",
       "      <th>6</th>\n",
       "      <td>mr003</td>\n",
       "      <td>38.0</td>\n",
       "      <td>108</td>\n",
       "      <td>119</td>\n",
       "      <td>128</td>\n",
       "    </tr>\n",
       "  </tbody>\n",
       "</table>\n",
       "</div>"
      ],
      "text/plain": [
       "    编号  体育  语文  数学  英语\n",
       "0  mr001  34.5   110   105    99\n",
       "1  mr001  33.0   110   105    99\n",
       "2  mr001  35.0   110   105    99\n",
       "3  mr002  39.7   105    88   115\n",
       "4  mr003  38.0   109   120   130\n",
       "5  mr003  38.0   110   123   109\n",
       "6  mr003  38.0   108   119   128"
      ]
     },
     "execution_count": 5,
     "metadata": {},
     "output_type": "execute_result"
    }
   ],
   "source": [
    "df_merge = pd.merge(df1, df2)\n",
    "df_merge"
   ]
  },
  {
   "cell_type": "code",
   "execution_count": null,
   "metadata": {},
   "outputs": [],
   "source": []
  },
  {
   "cell_type": "code",
   "execution_count": null,
   "metadata": {},
   "outputs": [],
   "source": []
  }
 ],
 "metadata": {
  "kernelspec": {
   "display_name": "Python 3",
   "language": "python",
   "name": "python3"
  },
  "language_info": {
   "codemirror_mode": {
    "name": "ipython",
    "version": 3
   },
   "file_extension": ".py",
   "mimetype": "text/x-python",
   "name": "python",
   "nbconvert_exporter": "python",
   "pygments_lexer": "ipython3",
   "version": "3.7.6"
  }
 },
 "nbformat": 4,
 "nbformat_minor": 4
}
