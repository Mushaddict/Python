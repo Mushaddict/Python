{
 "cells": [
  {
   "cell_type": "code",
   "execution_count": 8,
   "metadata": {},
   "outputs": [
    {
     "data": {
      "text/html": [
       "<div>\n",
       "<style scoped>\n",
       "    .dataframe tbody tr th:only-of-type {\n",
       "        vertical-align: middle;\n",
       "    }\n",
       "\n",
       "    .dataframe tbody tr th {\n",
       "        vertical-align: top;\n",
       "    }\n",
       "\n",
       "    .dataframe thead th {\n",
       "        text-align: right;\n",
       "    }\n",
       "</style>\n",
       "<table border=\"1\" class=\"dataframe\">\n",
       "  <thead>\n",
       "    <tr style=\"text-align: right;\">\n",
       "      <th></th>\n",
       "      <th>语文</th>\n",
       "      <th>数学</th>\n",
       "      <th>英语</th>\n",
       "    </tr>\n",
       "  </thead>\n",
       "  <tbody>\n",
       "    <tr>\n",
       "      <th>1</th>\n",
       "      <td>110</td>\n",
       "      <td>105</td>\n",
       "      <td>99</td>\n",
       "    </tr>\n",
       "    <tr>\n",
       "      <th>2</th>\n",
       "      <td>105</td>\n",
       "      <td>88</td>\n",
       "      <td>115</td>\n",
       "    </tr>\n",
       "    <tr>\n",
       "      <th>3</th>\n",
       "      <td>109</td>\n",
       "      <td>120</td>\n",
       "      <td>130</td>\n",
       "    </tr>\n",
       "  </tbody>\n",
       "</table>\n",
       "</div>"
      ],
      "text/plain": [
       "    语文   数学   英语\n",
       "1  110  105   99\n",
       "2  105   88  115\n",
       "3  109  120  130"
      ]
     },
     "execution_count": 8,
     "metadata": {},
     "output_type": "execute_result"
    }
   ],
   "source": [
    "import pandas as pd\n",
    "data = [[110, 105, 99], [105, 88, 115], [109, 120, 130]]\n",
    "index = [1, 2, 3]\n",
    "columns = ['语文', '数学', '英语']\n",
    "df = pd.DataFrame(data = data, index = index, columns = columns)\n",
    "df"
   ]
  },
  {
   "cell_type": "code",
   "execution_count": 9,
   "metadata": {},
   "outputs": [
    {
     "data": {
      "text/html": [
       "<div>\n",
       "<style scoped>\n",
       "    .dataframe tbody tr th:only-of-type {\n",
       "        vertical-align: middle;\n",
       "    }\n",
       "\n",
       "    .dataframe tbody tr th {\n",
       "        vertical-align: top;\n",
       "    }\n",
       "\n",
       "    .dataframe thead th {\n",
       "        text-align: right;\n",
       "    }\n",
       "</style>\n",
       "<table border=\"1\" class=\"dataframe\">\n",
       "  <thead>\n",
       "    <tr style=\"text-align: right;\">\n",
       "      <th></th>\n",
       "      <th>语文</th>\n",
       "      <th>数学</th>\n",
       "      <th>英语</th>\n",
       "      <th>总成绩</th>\n",
       "    </tr>\n",
       "  </thead>\n",
       "  <tbody>\n",
       "    <tr>\n",
       "      <th>1</th>\n",
       "      <td>110</td>\n",
       "      <td>105</td>\n",
       "      <td>99</td>\n",
       "      <td>314</td>\n",
       "    </tr>\n",
       "    <tr>\n",
       "      <th>2</th>\n",
       "      <td>105</td>\n",
       "      <td>88</td>\n",
       "      <td>115</td>\n",
       "      <td>308</td>\n",
       "    </tr>\n",
       "    <tr>\n",
       "      <th>3</th>\n",
       "      <td>109</td>\n",
       "      <td>120</td>\n",
       "      <td>130</td>\n",
       "      <td>359</td>\n",
       "    </tr>\n",
       "  </tbody>\n",
       "</table>\n",
       "</div>"
      ],
      "text/plain": [
       "    语文   数学   英语  总成绩\n",
       "1  110  105   99  314\n",
       "2  105   88  115  308\n",
       "3  109  120  130  359"
      ]
     },
     "execution_count": 9,
     "metadata": {},
     "output_type": "execute_result"
    }
   ],
   "source": [
    "df['总成绩'] = df.sum(axis = 1)\n",
    "df"
   ]
  },
  {
   "cell_type": "code",
   "execution_count": 12,
   "metadata": {},
   "outputs": [
    {
     "data": {
      "text/html": [
       "<div>\n",
       "<style scoped>\n",
       "    .dataframe tbody tr th:only-of-type {\n",
       "        vertical-align: middle;\n",
       "    }\n",
       "\n",
       "    .dataframe tbody tr th {\n",
       "        vertical-align: top;\n",
       "    }\n",
       "\n",
       "    .dataframe thead th {\n",
       "        text-align: right;\n",
       "    }\n",
       "</style>\n",
       "<table border=\"1\" class=\"dataframe\">\n",
       "  <thead>\n",
       "    <tr style=\"text-align: right;\">\n",
       "      <th></th>\n",
       "      <th>语文</th>\n",
       "      <th>数学</th>\n",
       "      <th>英语</th>\n",
       "    </tr>\n",
       "  </thead>\n",
       "  <tbody>\n",
       "    <tr>\n",
       "      <th>0</th>\n",
       "      <td>110.0</td>\n",
       "      <td>105.0</td>\n",
       "      <td>99.000000</td>\n",
       "    </tr>\n",
       "    <tr>\n",
       "      <th>1</th>\n",
       "      <td>105.0</td>\n",
       "      <td>88.0</td>\n",
       "      <td>115.000000</td>\n",
       "    </tr>\n",
       "    <tr>\n",
       "      <th>2</th>\n",
       "      <td>109.0</td>\n",
       "      <td>120.0</td>\n",
       "      <td>130.000000</td>\n",
       "    </tr>\n",
       "    <tr>\n",
       "      <th>3</th>\n",
       "      <td>112.0</td>\n",
       "      <td>115.0</td>\n",
       "      <td>NaN</td>\n",
       "    </tr>\n",
       "    <tr>\n",
       "      <th>4</th>\n",
       "      <td>109.0</td>\n",
       "      <td>107.0</td>\n",
       "      <td>114.666667</td>\n",
       "    </tr>\n",
       "  </tbody>\n",
       "</table>\n",
       "</div>"
      ],
      "text/plain": [
       "      语文     数学          英语\n",
       "0  110.0  105.0   99.000000\n",
       "1  105.0   88.0  115.000000\n",
       "2  109.0  120.0  130.000000\n",
       "3  112.0  115.0         NaN\n",
       "4  109.0  107.0  114.666667"
      ]
     },
     "execution_count": 12,
     "metadata": {},
     "output_type": "execute_result"
    }
   ],
   "source": [
    "data = [[110, 105, 99], [105, 88, 115], [109, 120, 130], [112, 115]]\n",
    "index = [1, 2, 3, 4]\n",
    "df = pd.DataFrame(data = data, index = index, columns = columns)\n",
    "new = df.mean()\n",
    "df = df.append(new, ignore_index = True)\n",
    "df"
   ]
  },
  {
   "cell_type": "code",
   "execution_count": 14,
   "metadata": {},
   "outputs": [
    {
     "data": {
      "text/plain": [
       "语文    112.0\n",
       "数学    120.0\n",
       "英语    130.0\n",
       "dtype: float64"
      ]
     },
     "execution_count": 14,
     "metadata": {},
     "output_type": "execute_result"
    }
   ],
   "source": [
    "new = df.max()\n",
    "new"
   ]
  },
  {
   "cell_type": "code",
   "execution_count": 15,
   "metadata": {},
   "outputs": [
    {
     "data": {
      "text/html": [
       "<div>\n",
       "<style scoped>\n",
       "    .dataframe tbody tr th:only-of-type {\n",
       "        vertical-align: middle;\n",
       "    }\n",
       "\n",
       "    .dataframe tbody tr th {\n",
       "        vertical-align: top;\n",
       "    }\n",
       "\n",
       "    .dataframe thead th {\n",
       "        text-align: right;\n",
       "    }\n",
       "</style>\n",
       "<table border=\"1\" class=\"dataframe\">\n",
       "  <thead>\n",
       "    <tr style=\"text-align: right;\">\n",
       "      <th></th>\n",
       "      <th>语文</th>\n",
       "      <th>数学</th>\n",
       "      <th>英语</th>\n",
       "    </tr>\n",
       "  </thead>\n",
       "  <tbody>\n",
       "    <tr>\n",
       "      <th>0</th>\n",
       "      <td>110.0</td>\n",
       "      <td>105.0</td>\n",
       "      <td>99.000000</td>\n",
       "    </tr>\n",
       "    <tr>\n",
       "      <th>1</th>\n",
       "      <td>105.0</td>\n",
       "      <td>88.0</td>\n",
       "      <td>115.000000</td>\n",
       "    </tr>\n",
       "    <tr>\n",
       "      <th>2</th>\n",
       "      <td>109.0</td>\n",
       "      <td>120.0</td>\n",
       "      <td>130.000000</td>\n",
       "    </tr>\n",
       "    <tr>\n",
       "      <th>3</th>\n",
       "      <td>112.0</td>\n",
       "      <td>115.0</td>\n",
       "      <td>NaN</td>\n",
       "    </tr>\n",
       "    <tr>\n",
       "      <th>4</th>\n",
       "      <td>109.0</td>\n",
       "      <td>107.0</td>\n",
       "      <td>114.666667</td>\n",
       "    </tr>\n",
       "    <tr>\n",
       "      <th>5</th>\n",
       "      <td>112.0</td>\n",
       "      <td>120.0</td>\n",
       "      <td>130.000000</td>\n",
       "    </tr>\n",
       "  </tbody>\n",
       "</table>\n",
       "</div>"
      ],
      "text/plain": [
       "      语文     数学          英语\n",
       "0  110.0  105.0   99.000000\n",
       "1  105.0   88.0  115.000000\n",
       "2  109.0  120.0  130.000000\n",
       "3  112.0  115.0         NaN\n",
       "4  109.0  107.0  114.666667\n",
       "5  112.0  120.0  130.000000"
      ]
     },
     "execution_count": 15,
     "metadata": {},
     "output_type": "execute_result"
    }
   ],
   "source": [
    "df = df.append(new, ignore_index = True)\n",
    "df"
   ]
  },
  {
   "cell_type": "code",
   "execution_count": 16,
   "metadata": {},
   "outputs": [
    {
     "data": {
      "text/plain": [
       "语文    109.5\n",
       "数学    111.0\n",
       "英语    115.0\n",
       "dtype: float64"
      ]
     },
     "execution_count": 16,
     "metadata": {},
     "output_type": "execute_result"
    }
   ],
   "source": [
    "df.median()"
   ]
  },
  {
   "cell_type": "code",
   "execution_count": 17,
   "metadata": {},
   "outputs": [
    {
     "data": {
      "text/html": [
       "<div>\n",
       "<style scoped>\n",
       "    .dataframe tbody tr th:only-of-type {\n",
       "        vertical-align: middle;\n",
       "    }\n",
       "\n",
       "    .dataframe tbody tr th {\n",
       "        vertical-align: top;\n",
       "    }\n",
       "\n",
       "    .dataframe thead th {\n",
       "        text-align: right;\n",
       "    }\n",
       "</style>\n",
       "<table border=\"1\" class=\"dataframe\">\n",
       "  <thead>\n",
       "    <tr style=\"text-align: right;\">\n",
       "      <th></th>\n",
       "      <th>语文</th>\n",
       "      <th>数学</th>\n",
       "      <th>英语</th>\n",
       "    </tr>\n",
       "  </thead>\n",
       "  <tbody>\n",
       "    <tr>\n",
       "      <th>0</th>\n",
       "      <td>109.0</td>\n",
       "      <td>120.0</td>\n",
       "      <td>130.0</td>\n",
       "    </tr>\n",
       "    <tr>\n",
       "      <th>1</th>\n",
       "      <td>112.0</td>\n",
       "      <td>NaN</td>\n",
       "      <td>NaN</td>\n",
       "    </tr>\n",
       "  </tbody>\n",
       "</table>\n",
       "</div>"
      ],
      "text/plain": [
       "      语文     数学     英语\n",
       "0  109.0  120.0  130.0\n",
       "1  112.0    NaN    NaN"
      ]
     },
     "execution_count": 17,
     "metadata": {},
     "output_type": "execute_result"
    }
   ],
   "source": [
    "df.mode()"
   ]
  },
  {
   "cell_type": "code",
   "execution_count": 18,
   "metadata": {},
   "outputs": [
    {
     "data": {
      "text/plain": [
       "0    120.0\n",
       "dtype: float64"
      ]
     },
     "execution_count": 18,
     "metadata": {},
     "output_type": "execute_result"
    }
   ],
   "source": [
    "df['数学'].mode()"
   ]
  },
  {
   "cell_type": "code",
   "execution_count": 19,
   "metadata": {},
   "outputs": [
    {
     "data": {
      "text/html": [
       "<div>\n",
       "<style scoped>\n",
       "    .dataframe tbody tr th:only-of-type {\n",
       "        vertical-align: middle;\n",
       "    }\n",
       "\n",
       "    .dataframe tbody tr th {\n",
       "        vertical-align: top;\n",
       "    }\n",
       "\n",
       "    .dataframe thead th {\n",
       "        text-align: right;\n",
       "    }\n",
       "</style>\n",
       "<table border=\"1\" class=\"dataframe\">\n",
       "  <thead>\n",
       "    <tr style=\"text-align: right;\">\n",
       "      <th></th>\n",
       "      <th>0</th>\n",
       "      <th>1</th>\n",
       "      <th>2</th>\n",
       "    </tr>\n",
       "  </thead>\n",
       "  <tbody>\n",
       "    <tr>\n",
       "      <th>0</th>\n",
       "      <td>99.0</td>\n",
       "      <td>105.0</td>\n",
       "      <td>110.000000</td>\n",
       "    </tr>\n",
       "    <tr>\n",
       "      <th>1</th>\n",
       "      <td>88.0</td>\n",
       "      <td>105.0</td>\n",
       "      <td>115.000000</td>\n",
       "    </tr>\n",
       "    <tr>\n",
       "      <th>2</th>\n",
       "      <td>109.0</td>\n",
       "      <td>120.0</td>\n",
       "      <td>130.000000</td>\n",
       "    </tr>\n",
       "    <tr>\n",
       "      <th>3</th>\n",
       "      <td>112.0</td>\n",
       "      <td>115.0</td>\n",
       "      <td>NaN</td>\n",
       "    </tr>\n",
       "    <tr>\n",
       "      <th>4</th>\n",
       "      <td>107.0</td>\n",
       "      <td>109.0</td>\n",
       "      <td>114.666667</td>\n",
       "    </tr>\n",
       "    <tr>\n",
       "      <th>5</th>\n",
       "      <td>112.0</td>\n",
       "      <td>120.0</td>\n",
       "      <td>130.000000</td>\n",
       "    </tr>\n",
       "  </tbody>\n",
       "</table>\n",
       "</div>"
      ],
      "text/plain": [
       "       0      1           2\n",
       "0   99.0  105.0  110.000000\n",
       "1   88.0  105.0  115.000000\n",
       "2  109.0  120.0  130.000000\n",
       "3  112.0  115.0         NaN\n",
       "4  107.0  109.0  114.666667\n",
       "5  112.0  120.0  130.000000"
      ]
     },
     "execution_count": 19,
     "metadata": {},
     "output_type": "execute_result"
    }
   ],
   "source": [
    "df.mode(axis = 1)"
   ]
  },
  {
   "cell_type": "code",
   "execution_count": 20,
   "metadata": {},
   "outputs": [
    {
     "data": {
      "text/plain": [
       "语文      6.700000\n",
       "数学    147.766667\n",
       "英语    167.188889\n",
       "dtype: float64"
      ]
     },
     "execution_count": 20,
     "metadata": {},
     "output_type": "execute_result"
    }
   ],
   "source": [
    "df.var()"
   ]
  },
  {
   "cell_type": "code",
   "execution_count": 21,
   "metadata": {},
   "outputs": [
    {
     "data": {
      "text/plain": [
       "0     30.333333\n",
       "1    186.333333\n",
       "2    110.333333\n",
       "3      4.500000\n",
       "4     15.814815\n",
       "5     81.333333\n",
       "dtype: float64"
      ]
     },
     "execution_count": 21,
     "metadata": {},
     "output_type": "execute_result"
    }
   ],
   "source": [
    "df.var(axis = 1)"
   ]
  },
  {
   "cell_type": "code",
   "execution_count": 22,
   "metadata": {},
   "outputs": [
    {
     "data": {
      "text/plain": [
       "语文     2.588436\n",
       "数学    12.155931\n",
       "英语    12.930154\n",
       "dtype: float64"
      ]
     },
     "execution_count": 22,
     "metadata": {},
     "output_type": "execute_result"
    }
   ],
   "source": [
    "df.std()"
   ]
  },
  {
   "cell_type": "code",
   "execution_count": 24,
   "metadata": {},
   "outputs": [
    {
     "data": {
      "text/html": [
       "<div>\n",
       "<style scoped>\n",
       "    .dataframe tbody tr th:only-of-type {\n",
       "        vertical-align: middle;\n",
       "    }\n",
       "\n",
       "    .dataframe tbody tr th {\n",
       "        vertical-align: top;\n",
       "    }\n",
       "\n",
       "    .dataframe thead th {\n",
       "        text-align: right;\n",
       "    }\n",
       "</style>\n",
       "<table border=\"1\" class=\"dataframe\">\n",
       "  <thead>\n",
       "    <tr style=\"text-align: right;\">\n",
       "      <th></th>\n",
       "      <th>数学</th>\n",
       "    </tr>\n",
       "  </thead>\n",
       "  <tbody>\n",
       "    <tr>\n",
       "      <th>3</th>\n",
       "      <td>78</td>\n",
       "    </tr>\n",
       "    <tr>\n",
       "      <th>4</th>\n",
       "      <td>65</td>\n",
       "    </tr>\n",
       "    <tr>\n",
       "      <th>7</th>\n",
       "      <td>56</td>\n",
       "    </tr>\n",
       "    <tr>\n",
       "      <th>9</th>\n",
       "      <td>45</td>\n",
       "    </tr>\n",
       "  </tbody>\n",
       "</table>\n",
       "</div>"
      ],
      "text/plain": [
       "   数学\n",
       "3  78\n",
       "4  65\n",
       "7  56\n",
       "9  45"
      ]
     },
     "execution_count": 24,
     "metadata": {},
     "output_type": "execute_result"
    }
   ],
   "source": [
    "data = [120, 89, 98, 78, 65, 102, 112, 56, 79, 45]\n",
    "columns = ['数学']\n",
    "df = pd.DataFrame(data = data, columns = columns)\n",
    "x = df['数学'].quantile(0.35)\n",
    "df[df['数学'] <= x]"
   ]
  },
  {
   "cell_type": "code",
   "execution_count": 26,
   "metadata": {},
   "outputs": [
    {
     "name": "stdout",
     "output_type": "stream",
     "text": [
      "         A1        A2        A3        A4        A5\n",
      "0  0.436070  0.040015  0.474942  0.038947  0.622480\n",
      "1  0.393006  0.943587  0.177929  0.777787  0.871036\n",
      "2  0.611159  0.968908  0.518590  0.427581  0.516033\n",
      "3  0.588239  0.158838  0.883600  0.563898  0.097906\n",
      "4  0.981789  0.939891  0.848693  0.175349  0.995041\n",
      "     A1    A2    A3    A4    A5\n",
      "0  0.44  0.04  0.47  0.04  0.62\n",
      "1  0.39  0.94  0.18  0.78  0.87\n",
      "2  0.61  0.97  0.52  0.43  0.52\n",
      "3  0.59  0.16  0.88  0.56  0.10\n",
      "4  0.98  0.94  0.85  0.18  1.00\n",
      "    A1    A2        A3        A4        A5\n",
      "0  0.4  0.04  0.474942  0.038947  0.622480\n",
      "1  0.4  0.94  0.177929  0.777787  0.871036\n",
      "2  0.6  0.97  0.518590  0.427581  0.516033\n",
      "3  0.6  0.16  0.883600  0.563898  0.097906\n",
      "4  1.0  0.94  0.848693  0.175349  0.995041\n",
      "A1    1\n",
      "A2    0\n",
      "A3    2\n",
      "dtype: int64\n",
      "    A1   A2    A3        A4        A5\n",
      "0  0.4  0.0  0.47  0.038947  0.622480\n",
      "1  0.4  1.0  0.18  0.777787  0.871036\n",
      "2  0.6  1.0  0.52  0.427581  0.516033\n",
      "3  0.6  0.0  0.88  0.563898  0.097906\n",
      "4  1.0  1.0  0.85  0.175349  0.995041\n"
     ]
    }
   ],
   "source": [
    "# 4.2 数据格式化\n",
    "import numpy as np\n",
    "df = pd.DataFrame(np.random.random([5, 5]), columns = ['A1', 'A2', 'A3', 'A4', 'A5'])\n",
    "print(df)\n",
    "print(df.round(2))\n",
    "print(df.round({'A1': 1, 'A2' : 2}))\n",
    "s1 = pd.Series([1, 0, 2], index = ['A1', 'A2', 'A3'])\n",
    "print(s1)\n",
    "print(df.round(s1))"
   ]
  },
  {
   "cell_type": "code",
   "execution_count": 28,
   "metadata": {},
   "outputs": [
    {
     "data": {
      "text/html": [
       "<div>\n",
       "<style scoped>\n",
       "    .dataframe tbody tr th:only-of-type {\n",
       "        vertical-align: middle;\n",
       "    }\n",
       "\n",
       "    .dataframe tbody tr th {\n",
       "        vertical-align: top;\n",
       "    }\n",
       "\n",
       "    .dataframe thead th {\n",
       "        text-align: right;\n",
       "    }\n",
       "</style>\n",
       "<table border=\"1\" class=\"dataframe\">\n",
       "  <thead>\n",
       "    <tr style=\"text-align: right;\">\n",
       "      <th></th>\n",
       "      <th>A1</th>\n",
       "      <th>A2</th>\n",
       "      <th>A3</th>\n",
       "      <th>A4</th>\n",
       "      <th>A5</th>\n",
       "      <th>百分比</th>\n",
       "    </tr>\n",
       "  </thead>\n",
       "  <tbody>\n",
       "    <tr>\n",
       "      <th>0</th>\n",
       "      <td>0.436070</td>\n",
       "      <td>0.040015</td>\n",
       "      <td>0.474942</td>\n",
       "      <td>0.038947</td>\n",
       "      <td>0.622480</td>\n",
       "      <td>43.61%</td>\n",
       "    </tr>\n",
       "    <tr>\n",
       "      <th>1</th>\n",
       "      <td>0.393006</td>\n",
       "      <td>0.943587</td>\n",
       "      <td>0.177929</td>\n",
       "      <td>0.777787</td>\n",
       "      <td>0.871036</td>\n",
       "      <td>39.30%</td>\n",
       "    </tr>\n",
       "    <tr>\n",
       "      <th>2</th>\n",
       "      <td>0.611159</td>\n",
       "      <td>0.968908</td>\n",
       "      <td>0.518590</td>\n",
       "      <td>0.427581</td>\n",
       "      <td>0.516033</td>\n",
       "      <td>61.12%</td>\n",
       "    </tr>\n",
       "    <tr>\n",
       "      <th>3</th>\n",
       "      <td>0.588239</td>\n",
       "      <td>0.158838</td>\n",
       "      <td>0.883600</td>\n",
       "      <td>0.563898</td>\n",
       "      <td>0.097906</td>\n",
       "      <td>58.82%</td>\n",
       "    </tr>\n",
       "    <tr>\n",
       "      <th>4</th>\n",
       "      <td>0.981789</td>\n",
       "      <td>0.939891</td>\n",
       "      <td>0.848693</td>\n",
       "      <td>0.175349</td>\n",
       "      <td>0.995041</td>\n",
       "      <td>98.18%</td>\n",
       "    </tr>\n",
       "  </tbody>\n",
       "</table>\n",
       "</div>"
      ],
      "text/plain": [
       "         A1        A2        A3        A4        A5     百分比\n",
       "0  0.436070  0.040015  0.474942  0.038947  0.622480  43.61%\n",
       "1  0.393006  0.943587  0.177929  0.777787  0.871036  39.30%\n",
       "2  0.611159  0.968908  0.518590  0.427581  0.516033  61.12%\n",
       "3  0.588239  0.158838  0.883600  0.563898  0.097906  58.82%\n",
       "4  0.981789  0.939891  0.848693  0.175349  0.995041  98.18%"
      ]
     },
     "execution_count": 28,
     "metadata": {},
     "output_type": "execute_result"
    }
   ],
   "source": [
    "df['百分比'] = df['A1'].apply(lambda x : format(x, '.2%'))\n",
    "df"
   ]
  },
  {
   "cell_type": "code",
   "execution_count": 29,
   "metadata": {},
   "outputs": [
    {
     "data": {
      "text/html": [
       "<div>\n",
       "<style scoped>\n",
       "    .dataframe tbody tr th:only-of-type {\n",
       "        vertical-align: middle;\n",
       "    }\n",
       "\n",
       "    .dataframe tbody tr th {\n",
       "        vertical-align: top;\n",
       "    }\n",
       "\n",
       "    .dataframe thead th {\n",
       "        text-align: right;\n",
       "    }\n",
       "</style>\n",
       "<table border=\"1\" class=\"dataframe\">\n",
       "  <thead>\n",
       "    <tr style=\"text-align: right;\">\n",
       "      <th></th>\n",
       "      <th>A1</th>\n",
       "      <th>A2</th>\n",
       "      <th>A3</th>\n",
       "      <th>A4</th>\n",
       "      <th>A5</th>\n",
       "      <th>百分比</th>\n",
       "    </tr>\n",
       "  </thead>\n",
       "  <tbody>\n",
       "    <tr>\n",
       "      <th>0</th>\n",
       "      <td>0.436070</td>\n",
       "      <td>0.040015</td>\n",
       "      <td>0.474942</td>\n",
       "      <td>0.038947</td>\n",
       "      <td>0.622480</td>\n",
       "      <td>44%</td>\n",
       "    </tr>\n",
       "    <tr>\n",
       "      <th>1</th>\n",
       "      <td>0.393006</td>\n",
       "      <td>0.943587</td>\n",
       "      <td>0.177929</td>\n",
       "      <td>0.777787</td>\n",
       "      <td>0.871036</td>\n",
       "      <td>39%</td>\n",
       "    </tr>\n",
       "    <tr>\n",
       "      <th>2</th>\n",
       "      <td>0.611159</td>\n",
       "      <td>0.968908</td>\n",
       "      <td>0.518590</td>\n",
       "      <td>0.427581</td>\n",
       "      <td>0.516033</td>\n",
       "      <td>61%</td>\n",
       "    </tr>\n",
       "    <tr>\n",
       "      <th>3</th>\n",
       "      <td>0.588239</td>\n",
       "      <td>0.158838</td>\n",
       "      <td>0.883600</td>\n",
       "      <td>0.563898</td>\n",
       "      <td>0.097906</td>\n",
       "      <td>59%</td>\n",
       "    </tr>\n",
       "    <tr>\n",
       "      <th>4</th>\n",
       "      <td>0.981789</td>\n",
       "      <td>0.939891</td>\n",
       "      <td>0.848693</td>\n",
       "      <td>0.175349</td>\n",
       "      <td>0.995041</td>\n",
       "      <td>98%</td>\n",
       "    </tr>\n",
       "  </tbody>\n",
       "</table>\n",
       "</div>"
      ],
      "text/plain": [
       "         A1        A2        A3        A4        A5  百分比\n",
       "0  0.436070  0.040015  0.474942  0.038947  0.622480  44%\n",
       "1  0.393006  0.943587  0.177929  0.777787  0.871036  39%\n",
       "2  0.611159  0.968908  0.518590  0.427581  0.516033  61%\n",
       "3  0.588239  0.158838  0.883600  0.563898  0.097906  59%\n",
       "4  0.981789  0.939891  0.848693  0.175349  0.995041  98%"
      ]
     },
     "execution_count": 29,
     "metadata": {},
     "output_type": "execute_result"
    }
   ],
   "source": [
    "df['百分比'] = df['A1'].map(lambda x: '{:.0%}'.format(x))\n",
    "df"
   ]
  },
  {
   "cell_type": "code",
   "execution_count": 35,
   "metadata": {},
   "outputs": [
    {
     "data": {
      "text/html": [
       "<div>\n",
       "<style scoped>\n",
       "    .dataframe tbody tr th:only-of-type {\n",
       "        vertical-align: middle;\n",
       "    }\n",
       "\n",
       "    .dataframe tbody tr th {\n",
       "        vertical-align: top;\n",
       "    }\n",
       "\n",
       "    .dataframe thead th {\n",
       "        text-align: right;\n",
       "    }\n",
       "</style>\n",
       "<table border=\"1\" class=\"dataframe\">\n",
       "  <thead>\n",
       "    <tr style=\"text-align: right;\">\n",
       "      <th></th>\n",
       "      <th>7天点击量</th>\n",
       "      <th>订单预定</th>\n",
       "    </tr>\n",
       "    <tr>\n",
       "      <th>一级分类</th>\n",
       "      <th></th>\n",
       "      <th></th>\n",
       "    </tr>\n",
       "  </thead>\n",
       "  <tbody>\n",
       "    <tr>\n",
       "      <th>数据库</th>\n",
       "      <td>186</td>\n",
       "      <td>15</td>\n",
       "    </tr>\n",
       "    <tr>\n",
       "      <th>移动开发</th>\n",
       "      <td>261</td>\n",
       "      <td>7</td>\n",
       "    </tr>\n",
       "    <tr>\n",
       "      <th>编程语言与程序设计</th>\n",
       "      <td>4280</td>\n",
       "      <td>192</td>\n",
       "    </tr>\n",
       "    <tr>\n",
       "      <th>网页制作/Web技术</th>\n",
       "      <td>345</td>\n",
       "      <td>15</td>\n",
       "    </tr>\n",
       "  </tbody>\n",
       "</table>\n",
       "</div>"
      ],
      "text/plain": [
       "            7天点击量  订单预定\n",
       "一级分类                   \n",
       "数据库           186    15\n",
       "移动开发          261     7\n",
       "编程语言与程序设计    4280   192\n",
       "网页制作/Web技术    345    15"
      ]
     },
     "execution_count": 35,
     "metadata": {},
     "output_type": "execute_result"
    }
   ],
   "source": [
    "df = pd.read_csv('JD.csv', encoding = 'gbk')\n",
    "df1 = df[['一级分类', '7天点击量', '订单预定']]\n",
    "df1.groupby('一级分类').sum()"
   ]
  },
  {
   "cell_type": "code",
   "execution_count": 38,
   "metadata": {},
   "outputs": [
    {
     "name": "stdout",
     "output_type": "stream",
     "text": [
      "数据库\n",
      "   一级分类  7天点击量  订单预定\n",
      "25  数据库     58     2\n",
      "27  数据库    128    13\n",
      "移动开发\n",
      "    一级分类  7天点击量  订单预定\n",
      "10  移动开发     85     4\n",
      "19  移动开发     32     1\n",
      "24  移动开发     85     2\n",
      "28  移动开发     59     0\n",
      "编程语言与程序设计\n",
      "         一级分类  7天点击量  订单预定\n",
      "0   编程语言与程序设计     35     1\n",
      "1   编程语言与程序设计     49     0\n",
      "2   编程语言与程序设计     51     2\n",
      "3   编程语言与程序设计     64     1\n",
      "4   编程语言与程序设计     26     0\n",
      "5   编程语言与程序设计     60     1\n",
      "6   编程语言与程序设计    227    11\n",
      "8   编程语言与程序设计    122     3\n",
      "9   编程语言与程序设计    111     5\n",
      "11  编程语言与程序设计    165     5\n",
      "12  编程语言与程序设计    131     1\n",
      "13  编程语言与程序设计    149    10\n",
      "15  编程语言与程序设计   1139    79\n",
      "16  编程语言与程序设计    125     1\n",
      "18  编程语言与程序设计    149     4\n",
      "20  编程语言与程序设计     52     1\n",
      "21  编程语言与程序设计    597    25\n",
      "22  编程语言与程序设计    474    15\n",
      "23  编程语言与程序设计     83     3\n",
      "26  编程语言与程序设计    132     8\n",
      "29  编程语言与程序设计     27     2\n",
      "30  编程语言与程序设计    239    13\n",
      "31  编程语言与程序设计     45     1\n",
      "32  编程语言与程序设计     28     0\n",
      "网页制作/Web技术\n",
      "          一级分类  7天点击量  订单预定\n",
      "7   网页制作/Web技术    100     7\n",
      "14  网页制作/Web技术    188     8\n",
      "17  网页制作/Web技术     57     0\n"
     ]
    }
   ],
   "source": [
    "df1 = df[['一级分类', '7天点击量', '订单预定']]\n",
    "for name, group in df1.groupby('一级分类'): \n",
    "    print(name)\n",
    "    print(group)"
   ]
  },
  {
   "cell_type": "code",
   "execution_count": 39,
   "metadata": {},
   "outputs": [
    {
     "data": {
      "text/html": [
       "<div>\n",
       "<style scoped>\n",
       "    .dataframe tbody tr th:only-of-type {\n",
       "        vertical-align: middle;\n",
       "    }\n",
       "\n",
       "    .dataframe tbody tr th {\n",
       "        vertical-align: top;\n",
       "    }\n",
       "\n",
       "    .dataframe thead tr th {\n",
       "        text-align: left;\n",
       "    }\n",
       "\n",
       "    .dataframe thead tr:last-of-type th {\n",
       "        text-align: right;\n",
       "    }\n",
       "</style>\n",
       "<table border=\"1\" class=\"dataframe\">\n",
       "  <thead>\n",
       "    <tr>\n",
       "      <th></th>\n",
       "      <th colspan=\"2\" halign=\"left\">7天点击量</th>\n",
       "      <th colspan=\"2\" halign=\"left\">订单预定</th>\n",
       "    </tr>\n",
       "    <tr>\n",
       "      <th></th>\n",
       "      <th>mean</th>\n",
       "      <th>sum</th>\n",
       "      <th>mean</th>\n",
       "      <th>sum</th>\n",
       "    </tr>\n",
       "    <tr>\n",
       "      <th>一级分类</th>\n",
       "      <th></th>\n",
       "      <th></th>\n",
       "      <th></th>\n",
       "      <th></th>\n",
       "    </tr>\n",
       "  </thead>\n",
       "  <tbody>\n",
       "    <tr>\n",
       "      <th>数据库</th>\n",
       "      <td>93.000000</td>\n",
       "      <td>186</td>\n",
       "      <td>7.50</td>\n",
       "      <td>15</td>\n",
       "    </tr>\n",
       "    <tr>\n",
       "      <th>移动开发</th>\n",
       "      <td>65.250000</td>\n",
       "      <td>261</td>\n",
       "      <td>1.75</td>\n",
       "      <td>7</td>\n",
       "    </tr>\n",
       "    <tr>\n",
       "      <th>编程语言与程序设计</th>\n",
       "      <td>178.333333</td>\n",
       "      <td>4280</td>\n",
       "      <td>8.00</td>\n",
       "      <td>192</td>\n",
       "    </tr>\n",
       "    <tr>\n",
       "      <th>网页制作/Web技术</th>\n",
       "      <td>115.000000</td>\n",
       "      <td>345</td>\n",
       "      <td>5.00</td>\n",
       "      <td>15</td>\n",
       "    </tr>\n",
       "  </tbody>\n",
       "</table>\n",
       "</div>"
      ],
      "text/plain": [
       "                 7天点击量        订单预定     \n",
       "                  mean   sum  mean  sum\n",
       "一级分类                                   \n",
       "数据库          93.000000   186  7.50   15\n",
       "移动开发         65.250000   261  1.75    7\n",
       "编程语言与程序设计   178.333333  4280  8.00  192\n",
       "网页制作/Web技术  115.000000   345  5.00   15"
      ]
     },
     "execution_count": 39,
     "metadata": {},
     "output_type": "execute_result"
    }
   ],
   "source": [
    "df1.groupby('一级分类').agg(['mean', 'sum'])"
   ]
  },
  {
   "cell_type": "code",
   "execution_count": null,
   "metadata": {},
   "outputs": [],
   "source": []
  }
 ],
 "metadata": {
  "kernelspec": {
   "display_name": "Python 3",
   "language": "python",
   "name": "python3"
  },
  "language_info": {
   "codemirror_mode": {
    "name": "ipython",
    "version": 3
   },
   "file_extension": ".py",
   "mimetype": "text/x-python",
   "name": "python",
   "nbconvert_exporter": "python",
   "pygments_lexer": "ipython3",
   "version": "3.7.6"
  }
 },
 "nbformat": 4,
 "nbformat_minor": 4
}
