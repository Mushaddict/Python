{
 "cells": [
  {
   "cell_type": "code",
   "execution_count": 2,
   "metadata": {},
   "outputs": [
    {
     "name": "stdout",
     "output_type": "stream",
     "text": [
      "./aa/11月.xlsx\n",
      "./aa/9月.xlsx\n",
      "./aa/12月.xlsx\n",
      "./aa/10月.xlsx\n",
      "./aa/8月.xlsx\n",
      "./aa/4月.xlsx\n",
      "./aa/6月.xlsx\n",
      "./aa/2月.xlsx\n",
      "./aa/7月.xlsx\n",
      "./aa/5月.xlsx\n",
      "./aa/1月.xlsx\n",
      "./aa/3月.xlsx\n",
      "RangeIndex(start=0, stop=11815, step=1)\n"
     ]
    }
   ],
   "source": [
    "import pandas as pd\n",
    "import glob\n",
    "filearray = []\n",
    "filelocation = glob.glob(r'./aa/*.xlsx')\n",
    "# 遍历整个目录\n",
    "for filename in filelocation: \n",
    "    filearray.append(filename)\n",
    "    print(filename)\n",
    "res = pd.read_excel(filearray[0])  # 读取第一个Excel文件\n",
    "# 顺序读取Excel文件并进行合并\n",
    "for i in range(1, len(filearray)) : \n",
    "    A = pd.read_excel(filearray[i])\n",
    "    res = pd.concat([res, A], ignore_index = True, sort = False)\n",
    "print(res.index)\n",
    "# 写入Excel文件，并保存\n",
    "writer = pd.ExcelWriter('all.xlsx')\n",
    "res.to_excel(writer, 'sheet1')\n",
    "writer.save()"
   ]
  },
  {
   "cell_type": "code",
   "execution_count": null,
   "metadata": {},
   "outputs": [],
   "source": []
  }
 ],
 "metadata": {
  "kernelspec": {
   "display_name": "Python 3",
   "language": "python",
   "name": "python3"
  },
  "language_info": {
   "codemirror_mode": {
    "name": "ipython",
    "version": 3
   },
   "file_extension": ".py",
   "mimetype": "text/x-python",
   "name": "python",
   "nbconvert_exporter": "python",
   "pygments_lexer": "ipython3",
   "version": "3.7.6"
  }
 },
 "nbformat": 4,
 "nbformat_minor": 4
}
